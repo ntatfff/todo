{
  "cells": [
    {
      "cell_type": "code",
      "execution_count": null,
      "metadata": {
        "id": "2WxCQgO5SHOb"
      },
      "outputs": [],
      "source": [
        "!wget -O mini.sh https://repo.anaconda.com/miniconda/Miniconda3-py39_4.9.2-Linux-x86_64.sh\n",
        "!chmod +x mini.sh\n",
        "!bash ./mini.sh -b -f -p /usr/local\n",
        "!conda install -q -y jupyter\n",
        "!conda install -q -y google-colab -c conda-forge\n",
        "!python -m ipykernel install --name \"py39\" --user\n",
        "!python3 --version"
      ]
    },
    {
      "cell_type": "code",
      "execution_count": null,
      "metadata": {
        "id": "moIoh1WOcp5u"
      },
      "outputs": [],
      "source": [
        "!sudo update-alternatives --install /usr/bin/python3 python3 /usr/local/lib/python3.9 1"
      ]
    },
    {
      "cell_type": "code",
      "execution_count": null,
      "metadata": {
        "id": "QjURm4_GbLf2"
      },
      "outputs": [],
      "source": [
        "%pip install SimpleITK==2.4.0\n",
        "%pip install numpy==1.26.4\n",
        "%pip install pyradiomics==3.1.0\n",
        "%pip install six==1.17.0"
      ]
    },
    {
      "cell_type": "code",
      "execution_count": null,
      "metadata": {
        "id": "IyAq5cUzbqTP"
      },
      "outputs": [],
      "source": [
        "%%writefile code.py\n",
        "\n",
        "import radiomics\n",
        "import numpy as np\n",
        "import SimpleITK as sitk\n",
        "import radiomics.featureextractor\n",
        "import os\n",
        "import six\n",
        "\n",
        "imagePath = '/content/drive/MyDrive/LuanVan/dataset/BraTS2021_Training_Data/BraTS2021_00000/BraTS2021_00000_flair.nii.gz'\n",
        "image = sitk.ReadImage(imagePath)\n",
        "maskPath ='/content/drive/MyDrive/LuanVan/dataset/BraTS2021_Training_Data/BraTS2021_00000/BraTS2021_00000_tumor.nii.gz'\n",
        "mask = sitk.ReadImage(maskPath)\n",
        "\n",
        "settings = {}\n",
        "settings['kernelRadius'] = 5\n",
        "settings['voxelBatch'] = 1024\n",
        "extractor = radiomics.featureextractor.RadiomicsFeatureExtractor(**settings)\n",
        "\n",
        "featureMap = extractor.execute(image, mask, voxelBased=True)\n",
        "\n",
        "extractor.disableAllFeatures()\n",
        "extractor.enableFeaturesByName(firstorder=['Energy'])\n",
        "\n",
        "for featureName, featureValue in six.iteritems(featureMap):\n",
        "  if isinstance(featureValue, sitk.Image):\n",
        "    sitk.WriteImage(featureValue, '/content/drive/MyDrive/LuanVan/dataset/BraTS2021_Training_Data/nrrd/%s/%s.nrrd' % ('BraTS2021_00000', featureName))\n",
        "    print('Computed %s, stored as \"/content/drive/MyDrive/LuanVan/dataset/BraTS2021_Training_Data/nrrd/%s/%s.nrrd\"' % (featureName, 'BraTS2021_00000', featureName))\n",
        "  else:\n",
        "    print('%s: %s' % (featureName, featureValue))"
      ]
    },
    {
      "cell_type": "code",
      "execution_count": null,
      "metadata": {
        "id": "uoQheE-PqY5x"
      },
      "outputs": [],
      "source": [
        "!python3 code.py"
      ]
    }
  ],
  "metadata": {
    "colab": {
      "name": "ColabRadiomicsFeatureExtractor.ipynb",
      "provenance": []
    },
    "kernelspec": {
      "display_name": "Python 3",
      "name": "python3"
    },
    "language_info": {
      "name": "python"
    }
  },
  "nbformat": 4,
  "nbformat_minor": 0
}
