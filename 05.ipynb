{
 "cells": [
  {
   "cell_type": "code",
   "execution_count": 1,
   "metadata": {},
   "outputs": [],
   "source": [
    "import os\n",
    "import SimpleITK as sitk\n",
    "import six\n",
    "import radiomics\n",
    "from radiomics import featureextractor, getFeatureClasses"
   ]
  },
  {
   "cell_type": "code",
   "execution_count": 2,
   "metadata": {},
   "outputs": [],
   "source": [
    "imageName = 'nrrd/brain1_image.nrrd'\n",
    "maskName = 'nrrd/brain1_label.nrrd'\n",
    "\n",
    "# image = sitk.ReadImage(imageName)\n",
    "# mask = sitk.ReadImage(maskName)\n",
    "\n"
   ]
  },
  {
   "cell_type": "code",
   "execution_count": null,
   "metadata": {},
   "outputs": [],
   "source": [
    "sitk.GetArrayFromImage(mask)[100][150]"
   ]
  },
  {
   "cell_type": "code",
   "execution_count": 3,
   "metadata": {},
   "outputs": [],
   "source": [
    "\n",
    "paramsFile = os.path.abspath(r'exampleVoxel.yaml')\n",
    "\n",
    "extractor = featureextractor.RadiomicsFeatureExtractor(paramsFile)\n",
    "\n",
    "featureVector = extractor.execute(imageName, maskName, voxelBased=True)"
   ]
  },
  {
   "cell_type": "code",
   "execution_count": 4,
   "metadata": {},
   "outputs": [
    {
     "data": {
      "text/plain": [
       "<SimpleITK.SimpleITK.Image; proxy of <Swig Object of type 'itk::simple::Image *' at 0x00000213A44A4C90> >"
      ]
     },
     "execution_count": 4,
     "metadata": {},
     "output_type": "execute_result"
    }
   ],
   "source": [
    "# Print the results\n",
    "# for key, val in featureVector.items():\n",
    "#     print(f'{key}: {val}')\n",
    "\n",
    "image = featureVector['original_glcm_JointEntropy']\n",
    "\n",
    "image"
   ]
  },
  {
   "cell_type": "code",
   "execution_count": 13,
   "metadata": {},
   "outputs": [
    {
     "data": {
      "text/plain": [
       "np.float64(nan)"
      ]
     },
     "execution_count": 13,
     "metadata": {},
     "output_type": "execute_result"
    }
   ],
   "source": [
    "import numpy as np\n",
    "\n",
    "image_array = sitk.GetArrayFromImage(image)\n",
    "\n",
    "image_array.min()"
   ]
  },
  {
   "cell_type": "code",
   "execution_count": null,
   "metadata": {},
   "outputs": [],
   "source": [
    "print(\"Active features:\")\n",
    "for cls, features in six.iteritems(extractor.enabledFeatures):\n",
    "  if features is None or len(features) == 0:\n",
    "    features = [f for f, deprecated in six.iteritems(featureClasses[cls].getFeatureNames()) if not deprecated]\n",
    "  for f in features:\n",
    "    print(f)\n",
    "    print(getattr(featureClasses[cls], 'get%sFeatureValue' % f).__doc__)"
   ]
  },
  {
   "cell_type": "code",
   "execution_count": null,
   "metadata": {},
   "outputs": [],
   "source": [
    "featureVector"
   ]
  },
  {
   "cell_type": "code",
   "execution_count": null,
   "metadata": {},
   "outputs": [],
   "source": [
    "for featureName, featureValue in six.iteritems(featureVector):\n",
    "  if isinstance(featureValue, sitk.Image):\n",
    "    sitk.WriteImage(featureValue, '%s_%s.nrrd' % ('result', featureName))\n",
    "    print('Computed %s, stored as \"%s_%s.nrrd\"' % (featureName, 'result', featureName))\n",
    "  else:\n",
    "    print('%s: %s' % (featureName, featureValue))"
   ]
  },
  {
   "cell_type": "code",
   "execution_count": null,
   "metadata": {},
   "outputs": [],
   "source": [
    "import matplotlib.pyplot as plt\n",
    "\n",
    "# Read the NRRD file\n",
    "image = sitk.ReadImage('result_original_glcm_JointEntropy.nrrd')\n",
    "image_array = sitk.GetArrayFromImage(image)\n",
    "\n",
    "image_array\n",
    "\n",
    "# plt.imshow(image_array[0, :, :], cmap='gray')\n",
    "# plt.title('Voxel-Based Feature Map')\n",
    "# plt.colorbar()\n",
    "# plt.show()"
   ]
  }
 ],
 "metadata": {
  "kernelspec": {
   "display_name": "Python 3",
   "language": "python",
   "name": "python3"
  },
  "language_info": {
   "codemirror_mode": {
    "name": "ipython",
    "version": 3
   },
   "file_extension": ".py",
   "mimetype": "text/x-python",
   "name": "python",
   "nbconvert_exporter": "python",
   "pygments_lexer": "ipython3",
   "version": "3.10.0"
  }
 },
 "nbformat": 4,
 "nbformat_minor": 2
}
