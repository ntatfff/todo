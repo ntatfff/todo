{
 "cells": [
  {
   "cell_type": "markdown",
   "metadata": {},
   "source": [
    "# Load the Segmentation File\n",
    "First, load the segmentation file using nibabel:"
   ]
  },
  {
   "cell_type": "code",
   "execution_count": 1,
   "metadata": {},
   "outputs": [],
   "source": [
    "import nibabel as nib\n",
    "import numpy as np\n",
    "\n",
    "# Load the segmentation mask\n",
    "segmentation_path = 'dataset/BraTS2021_00495/BraTS2021_00495_seg.nii.gz'\n",
    "segmentation_mask = nib.load(segmentation_path).get_fdata()"
   ]
  },
  {
   "cell_type": "markdown",
   "metadata": {},
   "source": [
    "# Identify the Tumor Region\n",
    "Assume the tumor is labeled with a specific value (e.g., 1). You can identify the tumor region:"
   ]
  },
  {
   "cell_type": "code",
   "execution_count": 2,
   "metadata": {},
   "outputs": [],
   "source": [
    "# Assume the tumor is labeled with '1'\n",
    "tumor_mask = segmentation_mask == 1"
   ]
  },
  {
   "cell_type": "markdown",
   "metadata": {},
   "source": [
    "# Find the Bounding Box of the Tumor\n",
    "The bounding box is the smallest box that can contain the entire tumor. To find this, you need to determine the minimum and maximum indices along each axis where the tumor is present."
   ]
  },
  {
   "cell_type": "code",
   "execution_count": 3,
   "metadata": {},
   "outputs": [],
   "source": [
    "# Find the indices where the tumor is present\n",
    "tumor_indices = np.argwhere(tumor_mask)\n",
    "\n",
    "# Get the minimum and maximum indices along each axis\n",
    "min_coords = tumor_indices.min(axis=0)\n",
    "max_coords = tumor_indices.max(axis=0)"
   ]
  },
  {
   "cell_type": "markdown",
   "metadata": {},
   "source": [
    "# Calculate the Length, Width, and Height\n",
    "The dimensions of the tumor can be calculated using the differences between the max and min coordinates along each axis:"
   ]
  },
  {
   "cell_type": "code",
   "execution_count": 4,
   "metadata": {},
   "outputs": [
    {
     "name": "stdout",
     "output_type": "stream",
     "text": [
      "Tumor dimensions (in mm):\n",
      "Length (x-axis): 32.0 mm\n",
      "Width (y-axis): 50.0 mm\n",
      "Height (z-axis): 52.0 mm\n"
     ]
    }
   ],
   "source": [
    "# Calculate the size along each dimension\n",
    "tumor_length = max_coords[0] - min_coords[0]  # x-axis (Length)\n",
    "tumor_width = max_coords[1] - min_coords[1]   # y-axis (Width)\n",
    "tumor_height = max_coords[2] - min_coords[2]  # z-axis (Height)\n",
    "\n",
    "# Get the voxel dimensions from the header (in mm)\n",
    "voxel_dimensions = nib.load(segmentation_path).header.get_zooms()\n",
    "\n",
    "# Convert the voxel counts to physical dimensions in mm\n",
    "tumor_length_mm = tumor_length * voxel_dimensions[0]\n",
    "tumor_width_mm = tumor_width * voxel_dimensions[1]\n",
    "tumor_height_mm = tumor_height * voxel_dimensions[2]\n",
    "\n",
    "print(f\"Tumor dimensions (in mm):\")\n",
    "print(f\"Length (x-axis): {tumor_length_mm} mm\")\n",
    "print(f\"Width (y-axis): {tumor_width_mm} mm\")\n",
    "print(f\"Height (z-axis): {tumor_height_mm} mm\")"
   ]
  }
 ],
 "metadata": {
  "kernelspec": {
   "display_name": "Python 3",
   "language": "python",
   "name": "python3"
  },
  "language_info": {
   "codemirror_mode": {
    "name": "ipython",
    "version": 3
   },
   "file_extension": ".py",
   "mimetype": "text/x-python",
   "name": "python",
   "nbconvert_exporter": "python",
   "pygments_lexer": "ipython3",
   "version": "3.10.0"
  }
 },
 "nbformat": 4,
 "nbformat_minor": 2
}
