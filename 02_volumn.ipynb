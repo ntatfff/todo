{
 "cells": [
  {
   "cell_type": "code",
   "execution_count": 5,
   "metadata": {},
   "outputs": [],
   "source": [
    "import os\n",
    "import fnmatch\n",
    "import nibabel as nib\n",
    "import numpy as np\n",
    "import pandas as pd"
   ]
  },
  {
   "cell_type": "code",
   "execution_count": 6,
   "metadata": {},
   "outputs": [],
   "source": [
    "def calculate_tumor_volumn(segmentation_path, tumor_mask):\n",
    "    segmentation_mask = nib.load(segmentation_path).get_fdata()\n",
    "    voxel_dimensions = nib.load(segmentation_path).header.get_zooms()\n",
    "    voxel_volume = np.prod(voxel_dimensions)  # in mm³\n",
    "    num_tumor_voxels = np.sum(tumor_mask)\n",
    "    tumor_volume = num_tumor_voxels * voxel_volume  # in mm³\n",
    "    return tumor_volume"
   ]
  },
  {
   "cell_type": "code",
   "execution_count": 7,
   "metadata": {},
   "outputs": [],
   "source": [
    "def list_all_files(root_dir, prefix):\n",
    "    matching_folders = []\n",
    "    for root, dirs, files in os.walk(root_dir):\n",
    "        for dir_name in dirs:\n",
    "            if fnmatch.fnmatch(dir_name, f'{prefix}*'):\n",
    "                matching_folders.append(f'dataset/BraTS2021_Training_Data/{dir_name}/{dir_name}_seg.nii.gz')\n",
    "    return matching_folders\n",
    "\n",
    "# Example usage:\n",
    "root_directory = 'dataset/BraTS2021_Training_Data'\n",
    "prefix = 'BraTS2021_'\n",
    "folders = list_all_files(root_directory, prefix)"
   ]
  },
  {
   "cell_type": "code",
   "execution_count": 8,
   "metadata": {},
   "outputs": [],
   "source": [
    "result = { 'file': [], 'volumn (mm3)': []}\n",
    "\n",
    "result_df = pd.DataFrame(result)\n",
    "\n",
    "for folder in folders:\n",
    "    segmentation_mask = nib.load(folder).get_fdata()\n",
    "    tumor_mask = segmentation_mask == 4\n",
    "    volumn = calculate_tumor_volumn(folder, tumor_mask)\n",
    "    data = { 'file': folder, 'volumn (mm3)': volumn }\n",
    "\n",
    "    result_df.loc[len(result_df)] = data\n",
    "\n",
    "result_df.to_csv('4-tumor-volumn.csv')"
   ]
  }
 ],
 "metadata": {
  "kernelspec": {
   "display_name": "Python 3",
   "language": "python",
   "name": "python3"
  },
  "language_info": {
   "codemirror_mode": {
    "name": "ipython",
    "version": 3
   },
   "file_extension": ".py",
   "mimetype": "text/x-python",
   "name": "python",
   "nbconvert_exporter": "python",
   "pygments_lexer": "ipython3",
   "version": "3.10.0"
  }
 },
 "nbformat": 4,
 "nbformat_minor": 2
}
