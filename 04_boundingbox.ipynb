{
 "cells": [
  {
   "cell_type": "code",
   "execution_count": 4,
   "metadata": {},
   "outputs": [],
   "source": [
    "import nibabel as nib\n",
    "import numpy as np\n",
    "import fnmatch\n",
    "import pandas as pd\n",
    "import os"
   ]
  },
  {
   "cell_type": "code",
   "execution_count": 5,
   "metadata": {},
   "outputs": [],
   "source": [
    "def calculate_bounding_box(segmentation_path):\n",
    "    segmentation_mask = nib.load(segmentation_path).get_fdata()\n",
    "\n",
    "    # Assume the tumor is labeled with '1'\n",
    "    tumor_mask = segmentation_mask == 4\n",
    "\n",
    "    # Find the indices where the tumor is present\n",
    "    tumor_indices = np.argwhere(tumor_mask)\n",
    "\n",
    "    if tumor_indices.size == 0:\n",
    "        return {\n",
    "            'file': segmentation_path,\n",
    "            'length': 0,\n",
    "            'width': 0,\n",
    "            'height': 0\n",
    "        }\n",
    "\n",
    "    # Get the minimum and maximum indices along each axis\n",
    "    min_coords = tumor_indices.min(axis=0)\n",
    "    max_coords = tumor_indices.max(axis=0)\n",
    "\n",
    "    # Calculate the size along each dimension\n",
    "    tumor_length = max_coords[0] - min_coords[0]  # x-axis (Length)\n",
    "    tumor_width = max_coords[1] - min_coords[1]   # y-axis (Width)\n",
    "    tumor_height = max_coords[2] - min_coords[2]  # z-axis (Height)\n",
    "\n",
    "    # Get the voxel dimensions from the header (in mm)\n",
    "    voxel_dimensions = nib.load(segmentation_path).header.get_zooms()\n",
    "\n",
    "    # Convert the voxel counts to physical dimensions in mm\n",
    "    tumor_length_mm = tumor_length * voxel_dimensions[0]\n",
    "    tumor_width_mm = tumor_width * voxel_dimensions[1]\n",
    "    tumor_height_mm = tumor_height * voxel_dimensions[2]\n",
    "\n",
    "    return {\n",
    "        'file': segmentation_path,\n",
    "        'length': tumor_length_mm,\n",
    "        'width': tumor_width_mm,\n",
    "        'height': tumor_height_mm\n",
    "    }\n",
    "\n",
    "def list_all_files(root_dir, prefix):\n",
    "    matching_folders = []\n",
    "    for root, dirs, files in os.walk(root_dir):\n",
    "        for dir_name in dirs:\n",
    "            if fnmatch.fnmatch(dir_name, f'{prefix}*'):\n",
    "                matching_folders.append(f'dataset/BraTS2021_Training_Data/{dir_name}/{dir_name}_seg.nii.gz')\n",
    "    return matching_folders"
   ]
  },
  {
   "cell_type": "code",
   "execution_count": 6,
   "metadata": {},
   "outputs": [],
   "source": [
    "root_directory = 'dataset/BraTS2021_Training_Data'\n",
    "prefix = 'BraTS2021_'\n",
    "folders = list_all_files(root_directory, prefix)\n",
    "\n",
    "result_df = pd.DataFrame({ 'file': [], 'length': [], 'width': [], 'height': []})\n",
    "\n",
    "for folder in folders:\n",
    "    segmentation_mask = nib.load(folder).get_fdata()\n",
    "    data = calculate_bounding_box(folder)\n",
    "\n",
    "    result_df.loc[len(result_df)] = data\n",
    "\n",
    "result_df.to_csv('4-tumor-bounding-box.csv')"
   ]
  }
 ],
 "metadata": {
  "kernelspec": {
   "display_name": "Python 3",
   "language": "python",
   "name": "python3"
  },
  "language_info": {
   "codemirror_mode": {
    "name": "ipython",
    "version": 3
   },
   "file_extension": ".py",
   "mimetype": "text/x-python",
   "name": "python",
   "nbconvert_exporter": "python",
   "pygments_lexer": "ipython3",
   "version": "3.10.0"
  }
 },
 "nbformat": 4,
 "nbformat_minor": 2
}
