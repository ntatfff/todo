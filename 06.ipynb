{
 "cells": [
  {
   "cell_type": "code",
   "execution_count": 21,
   "metadata": {},
   "outputs": [],
   "source": [
    "from __future__ import print_function\n",
    "\n",
    "import logging\n",
    "import os\n",
    "\n",
    "import SimpleITK as sitk\n",
    "import six\n",
    "import numpy as np\n",
    "\n",
    "import radiomics\n",
    "from radiomics import featureextractor, getFeatureClasses\n"
   ]
  },
  {
   "cell_type": "code",
   "execution_count": 22,
   "metadata": {},
   "outputs": [],
   "source": [
    "\n",
    "\n",
    "def tqdmProgressbar():\n",
    "  \"\"\"\n",
    "  This function will setup the progress bar exposed by the 'tqdm' package.\n",
    "  Progress reporting is only used in PyRadiomics for the calculation of GLCM and GLSZM in full python mode, therefore\n",
    "  enable GLCM and full-python mode to show the progress bar functionality\n",
    "\n",
    "  N.B. This function will only work if the 'click' package is installed (not included in the PyRadiomics requirements)\n",
    "  \"\"\"\n",
    "  global extractor\n",
    "\n",
    "  radiomics.setVerbosity(logging.INFO)  # Verbosity must be at least INFO to enable progress bar\n",
    "\n",
    "  import tqdm\n",
    "  radiomics.progressReporter = tqdm.tqdm\n",
    "\n",
    "\n",
    "def clickProgressbar():\n",
    "  \"\"\"\n",
    "  This function will setup the progress bar exposed by the 'click' package.\n",
    "  Progress reporting is only used in PyRadiomics for the calculation of GLCM and GLSZM in full python mode, therefore\n",
    "  enable GLCM and full-python mode to show the progress bar functionality.\n",
    "\n",
    "  Because the signature used to instantiate a click progress bar is different from what PyRadiomics expects, we need to\n",
    "  write a simple wrapper class to enable use of a click progress bar. In this case we only need to change the 'desc'\n",
    "  keyword argument to a 'label' keyword argument.\n",
    "\n",
    "  N.B. This function will only work if the 'click' package is installed (not included in the PyRadiomics requirements)\n",
    "  \"\"\"\n",
    "  global extractor\n",
    "\n",
    "  # Enable the GLCM class to show the progress bar\n",
    "  extractor.enableFeatureClassByName('glcm')\n",
    "\n",
    "  radiomics.setVerbosity(logging.INFO)  # Verbosity must be at least INFO to enable progress bar\n",
    "\n",
    "  import click\n",
    "\n",
    "  class progressWrapper:\n",
    "    def __init__(self, iterable, desc=''):\n",
    "      # For a click progressbar, the description must be provided in the 'label' keyword argument.\n",
    "      self.bar = click.progressbar(iterable, label=desc)\n",
    "\n",
    "    def __iter__(self):\n",
    "      return self.bar.__iter__()  # Redirect to the __iter__ function of the click progressbar\n",
    "\n",
    "    def __enter__(self):\n",
    "      return self.bar.__enter__()  # Redirect to the __enter__ function of the click progressbar\n",
    "\n",
    "    def __exit__(self, exc_type, exc_value, tb):\n",
    "      return self.bar.__exit__(exc_type, exc_value, tb)  # Redirect to the __exit__ function of the click progressbar\n",
    "\n",
    "  radiomics.progressReporter = progressWrapper\n",
    "\n"
   ]
  },
  {
   "cell_type": "code",
   "execution_count": 18,
   "metadata": {},
   "outputs": [],
   "source": [
    "\n",
    "# Get some test data\n",
    "testCase = 'lung2'\n",
    "# repositoryRoot points to the root of the repository. The following line gets that location if this script is run\n",
    "# from it's default location in \\pyradiomics\\bin. Otherwise, it will point to some (invalid) folder, causing the\n",
    "# getTestCase function to fail to find the test case in the repository. In that case, a test case will be downloaded to\n",
    "# temporary files and it's location is returned.\n",
    "repositoryRoot = os.path.abspath(os.path.join(os.getcwd(), \"..\"))\n",
    "# imageName, maskName = radiomics.getTestCase(testCase, repositoryRoot)\n",
    "imageName0 = 'nrrd/brain1_image.nrrd'\n",
    "maskName0 = 'nrrd/brain1_label.nrrd'\n"
   ]
  },
  {
   "cell_type": "code",
   "execution_count": 19,
   "metadata": {},
   "outputs": [],
   "source": [
    "imageName = sitk.ReadImage(imageName0)\n",
    "maskName = sitk.ReadImage(maskName0)"
   ]
  },
  {
   "cell_type": "code",
   "execution_count": 28,
   "metadata": {},
   "outputs": [],
   "source": [
    "size = 256\n",
    "imageName = sitk.GetImageFromArray(np.random.randn(size, size, size))\n",
    "maskV = np.ones((size, size, size))\n",
    "maskV[0][0][0] = 0\n",
    "maskName = sitk.GetImageFromArray(maskV)\n"
   ]
  },
  {
   "cell_type": "code",
   "execution_count": 30,
   "metadata": {},
   "outputs": [
    {
     "data": {
      "text/plain": [
       "np.float64(0.0)"
      ]
     },
     "execution_count": 30,
     "metadata": {},
     "output_type": "execute_result"
    }
   ],
   "source": [
    "sitk.GetArrayFromImage(maskName).min()"
   ]
  },
  {
   "cell_type": "code",
   "execution_count": 31,
   "metadata": {},
   "outputs": [
    {
     "name": "stderr",
     "output_type": "stream",
     "text": [
      "Loading parameter file d:\\Desktop\\workspace\\todo\\exampleVoxel.yaml\n"
     ]
    },
    {
     "name": "stdout",
     "output_type": "stream",
     "text": [
      "Active features:\n",
      "JointEntropy\n",
      "\n",
      "    **12. Joint Entropy**\n",
      "\n",
      "    .. math::\n",
      "      \\textit{joint entropy} = -\\displaystyle\\sum^{N_g}_{i=1}\\displaystyle\\sum^{N_g}_{j=1}\n",
      "      {p(i,j)\\log_2\\big(p(i,j)+\\epsilon\\big)}\n",
      "\n",
      "\n",
      "    Joint entropy is a measure of the randomness/variability in neighborhood intensity values.\n",
      "\n",
      "    .. note::\n",
      "      Defined by IBSI as Joint entropy\n",
      "    \n"
     ]
    }
   ],
   "source": [
    "\n",
    "# Get the location of the example settings file\n",
    "# paramsFile = os.path.abspath(r'exampleSettings\\exampleVoxel.yaml')\n",
    "paramsFile = os.path.abspath(r'exampleVoxel.yaml')\n",
    "\n",
    "if imageName is None or maskName is None:  # Something went wrong, in this case PyRadiomics will also log an error\n",
    "  print('Error getting testcase!')\n",
    "  exit()\n",
    "\n",
    "# Regulate verbosity with radiomics.verbosity\n",
    "# radiomics.setVerbosity(logging.INFO)\n",
    "\n",
    "# Get the PyRadiomics logger (default log-level = INFO\n",
    "logger = radiomics.logger\n",
    "logger.setLevel(logging.DEBUG)  # set level to DEBUG to include debug log messages in log file\n",
    "\n",
    "# Write out all log entries to a file\n",
    "handler = logging.FileHandler(filename='testLog.txt', mode='w')\n",
    "formatter = logging.Formatter(\"%(levelname)s:%(name)s: %(message)s\")\n",
    "handler.setFormatter(formatter)\n",
    "logger.addHandler(handler)\n",
    "\n",
    "# Initialize feature extractor using the settings file\n",
    "extractor = featureextractor.RadiomicsFeatureExtractor(paramsFile)\n",
    "featureClasses = getFeatureClasses()\n",
    "\n",
    "# Uncomment one of these functions to show how PyRadiomics can use the 'tqdm' or 'click' package to report progress when\n",
    "# running in full python mode. Assumes the respective package is installed (not included in the requirements)\n",
    "\n",
    "tqdmProgressbar()\n",
    "# clickProgressbar()\n",
    "\n",
    "print(\"Active features:\")\n",
    "for cls, features in six.iteritems(extractor.enabledFeatures):\n",
    "  if features is None or len(features) == 0:\n",
    "    features = [f for f, deprecated in six.iteritems(featureClasses[cls].getFeatureNames()) if not deprecated]\n",
    "  for f in features:\n",
    "    print(f)\n",
    "    print(getattr(featureClasses[cls], 'get%sFeatureValue' % f).__doc__)\n"
   ]
  },
  {
   "cell_type": "code",
   "execution_count": 32,
   "metadata": {},
   "outputs": [
    {
     "data": {
      "text/plain": [
       "2"
      ]
     },
     "execution_count": 32,
     "metadata": {},
     "output_type": "execute_result"
    }
   ],
   "source": [
    "labels = np.unique(sitk.GetArrayFromImage(maskName))\n",
    "len(labels)"
   ]
  },
  {
   "cell_type": "code",
   "execution_count": 33,
   "metadata": {},
   "outputs": [
    {
     "name": "stderr",
     "output_type": "stream",
     "text": [
      "Starting voxel based extraction\n",
      "Calculating features with label: 1\n",
      "Loading image and mask\n"
     ]
    },
    {
     "name": "stdout",
     "output_type": "stream",
     "text": [
      "Calculating features\n"
     ]
    },
    {
     "name": "stderr",
     "output_type": "stream",
     "text": [
      "Adding image type \"Original\" with custom settings: {}\n",
      "Calculating features for original image\n",
      "Computing glcm\n",
      "batch: 100%|██████████| 1678/1678.0 [02:44<00:00, 10.19it/s]\n"
     ]
    }
   ],
   "source": [
    "\n",
    "print(\"Calculating features\")\n",
    "featureVector = extractor.execute(imageName, maskName, voxelBased=True)\n"
   ]
  },
  {
   "cell_type": "code",
   "execution_count": 11,
   "metadata": {},
   "outputs": [
    {
     "data": {
      "text/plain": [
       "OrderedDict([('diagnostics_Versions_PyRadiomics', 'v3.0.1'),\n",
       "             ('diagnostics_Versions_Numpy', '2.0.0'),\n",
       "             ('diagnostics_Versions_SimpleITK', '2.4.0'),\n",
       "             ('diagnostics_Versions_PyWavelet', '1.7.0'),\n",
       "             ('diagnostics_Versions_Python', '3.10.0'),\n",
       "             ('diagnostics_Configuration_Settings',\n",
       "              {'minimumROIDimensions': 2,\n",
       "               'minimumROISize': None,\n",
       "               'normalize': False,\n",
       "               'normalizeScale': 1,\n",
       "               'removeOutliers': None,\n",
       "               'resampledPixelSpacing': None,\n",
       "               'interpolator': 'sitkBSpline',\n",
       "               'preCrop': False,\n",
       "               'padDistance': 5,\n",
       "               'distances': [1],\n",
       "               'force2D': True,\n",
       "               'force2Ddimension': 0,\n",
       "               'resegmentRange': None,\n",
       "               'label': 1,\n",
       "               'additionalInfo': True,\n",
       "               'binWidth': 25,\n",
       "               'kernelRadius': 2,\n",
       "               'maskedKernel': True,\n",
       "               'initValue': 'nan',\n",
       "               'voxelBatch': 10000,\n",
       "               'voxelBased': True}),\n",
       "             ('diagnostics_Configuration_EnabledImageTypes', {'Original': {}}),\n",
       "             ('diagnostics_Image-original_Hash',\n",
       "              '5c9ce3ca174f0f8324aa4d277e0fef82dc5ac566'),\n",
       "             ('diagnostics_Image-original_Dimensionality', '3D'),\n",
       "             ('diagnostics_Image-original_Spacing',\n",
       "              (0.7812499999999999, 0.7812499999999999, 6.499999999999998)),\n",
       "             ('diagnostics_Image-original_Size', (256, 256, 25)),\n",
       "             ('diagnostics_Image-original_Mean',\n",
       "              np.float64(385.6564080810547)),\n",
       "             ('diagnostics_Image-original_Minimum', np.float64(0.0)),\n",
       "             ('diagnostics_Image-original_Maximum', np.float64(3057.0)),\n",
       "             ('diagnostics_Mask-original_Hash',\n",
       "              '9dc2c3137b31fd872997d92c9a92d5178126d9d3'),\n",
       "             ('diagnostics_Mask-original_Spacing',\n",
       "              (0.7812499999999999, 0.7812499999999999, 6.499999999999998)),\n",
       "             ('diagnostics_Mask-original_Size', (256, 256, 25)),\n",
       "             ('diagnostics_Mask-original_BoundingBox',\n",
       "              (162, 84, 11, 47, 70, 7)),\n",
       "             ('diagnostics_Mask-original_VoxelNum', 4137),\n",
       "             ('diagnostics_Mask-original_VolumeNum', 2),\n",
       "             ('diagnostics_Mask-original_CenterOfMassIndex',\n",
       "              (np.float64(186.98549673676578),\n",
       "               np.float64(106.3562968334542),\n",
       "               np.float64(14.38917089678511))),\n",
       "             ('diagnostics_Mask-original_CenterOfMass',\n",
       "              (46.47304432559825, 16.518518098863908, 15.529610829103234)),\n",
       "             ('original_glcm_JointEntropy',\n",
       "              <SimpleITK.SimpleITK.Image; proxy of <Swig Object of type 'itk::simple::Image *' at 0x000001DAC6F0FAB0> >)])"
      ]
     },
     "execution_count": 11,
     "metadata": {},
     "output_type": "execute_result"
    }
   ],
   "source": [
    "featureVector"
   ]
  },
  {
   "cell_type": "code",
   "execution_count": 34,
   "metadata": {},
   "outputs": [
    {
     "data": {
      "text/plain": [
       "np.float64(nan)"
      ]
     },
     "execution_count": 34,
     "metadata": {},
     "output_type": "execute_result"
    }
   ],
   "source": [
    "image = featureVector['original_glcm_JointEntropy']\n",
    "image_array = sitk.GetArrayFromImage(image)\n",
    "\n",
    "image_array.mean()"
   ]
  },
  {
   "cell_type": "code",
   "execution_count": null,
   "metadata": {},
   "outputs": [],
   "source": [
    "\n",
    "for featureName, featureValue in six.iteritems(featureVector):\n",
    "  if isinstance(featureValue, sitk.Image):\n",
    "    sitk.WriteImage(featureValue, '%s_%s.nrrd' % (testCase, featureName))\n",
    "    print('Computed %s, stored as \"%s_%s.nrrd\"' % (featureName, testCase, featureName))\n",
    "  else:\n",
    "    print('%s: %s' % (featureName, featureValue))"
   ]
  }
 ],
 "metadata": {
  "kernelspec": {
   "display_name": "Python 3",
   "language": "python",
   "name": "python3"
  },
  "language_info": {
   "codemirror_mode": {
    "name": "ipython",
    "version": 3
   },
   "file_extension": ".py",
   "mimetype": "text/x-python",
   "name": "python",
   "nbconvert_exporter": "python",
   "pygments_lexer": "ipython3",
   "version": "3.10.0"
  }
 },
 "nbformat": 4,
 "nbformat_minor": 2
}
