{
  "cells": [
    {
      "cell_type": "markdown",
      "metadata": {
        "colab_type": "text",
        "id": "view-in-github"
      },
      "source": [
        "<a href=\"https://colab.research.google.com/github/ntatfff/todo/blob/202411241258/ColabRadiomicsFeatureExtractor.ipynb\" target=\"_parent\"><img src=\"https://colab.research.google.com/assets/colab-badge.svg\" alt=\"Open In Colab\"/></a>"
      ]
    },
    {
      "cell_type": "code",
      "execution_count": null,
      "metadata": {
        "colab": {
          "base_uri": "https://localhost:8080/"
        },
        "id": "2WxCQgO5SHOb",
        "outputId": "72196d9d-e2c3-4bc7-ebdd-21ff8667c3a8"
      },
      "outputs": [],
      "source": [
        "!wget -O mini.sh https://repo.anaconda.com/miniconda/Miniconda3-py39_4.9.2-Linux-x86_64.sh\n",
        "!chmod +x mini.sh\n",
        "!bash ./mini.sh -b -f -p /usr/local\n",
        "!conda install -q -y jupyter\n",
        "!conda install -q -y google-colab -c conda-forge\n",
        "!python -m ipykernel install --name \"py39\" --user\n",
        "!python3 --version"
      ]
    },
    {
      "cell_type": "code",
      "execution_count": null,
      "metadata": {
        "colab": {
          "base_uri": "https://localhost:8080/"
        },
        "id": "moIoh1WOcp5u",
        "outputId": "0349d149-247f-44b0-9253-d449d32fe8c1"
      },
      "outputs": [],
      "source": [
        "!sudo update-alternatives --install /usr/bin/python3 python3 /usr/local/lib/python3.9 1"
      ]
    },
    {
      "cell_type": "code",
      "execution_count": null,
      "metadata": {
        "colab": {
          "base_uri": "https://localhost:8080/"
        },
        "id": "QjURm4_GbLf2",
        "outputId": "79d95082-d3d9-4bcc-cd89-b66f68f42486"
      },
      "outputs": [],
      "source": [
        "%pip install SimpleITK==2.4.0\n",
        "%pip install numpy==1.26.4\n",
        "%pip install pyradiomics==3.1.0\n",
        "%pip install pandas==1.2.3"
      ]
    },
    {
      "cell_type": "code",
      "execution_count": null,
      "metadata": {
        "colab": {
          "base_uri": "https://localhost:8080/"
        },
        "id": "IyAq5cUzbqTP",
        "outputId": "3e9c4598-9bb3-4cfa-8dd5-514c0e524391"
      },
      "outputs": [],
      "source": [
        "%%writefile code.py\n",
        "\n",
        "import radiomics\n",
        "import numpy as np\n",
        "import SimpleITK as sitk\n",
        "import radiomics.featureextractor\n",
        "import os\n",
        "import six\n",
        "from os import path\n",
        "import pandas as pd\n",
        "\n",
        "def featureExtractor(fileId):\n",
        "  imagePath = '/content/drive/MyDrive/LuanVan/dataset/BraTS2021_Training_Data/%s/%s_flair.nii.gz' % (fileId, fileId)\n",
        "  image = sitk.ReadImage(imagePath)\n",
        "  maskPath ='/content/drive/MyDrive/LuanVan/dataset/BraTS2021_Training_Data/%s/%s_tumor.nii.gz' % (fileId, fileId)\n",
        "  mask = sitk.ReadImage(maskPath)\n",
        "\n",
        "  kernel = 5\n",
        "  settings = {}\n",
        "  settings['kernelRadius'] = kernel\n",
        "  settings['voxelBatch'] = 40000\n",
        "  extractor = radiomics.featureextractor.RadiomicsFeatureExtractor(**settings)\n",
        "  extractor.disableAllFeatures()\n",
        "  extractor.enableFeatureClassByName('firstorder')\n",
        "\n",
        "  featureMap = extractor.execute(image, mask, voxelBased=True)\n",
        "\n",
        "  for featureName, featureValue in six.iteritems(featureMap):\n",
        "    if isinstance(featureValue, sitk.Image):\n",
        "      fileFolder = '/content/drive/MyDrive/LuanVan/dataset/kernel%s/%s' % (kernel, fileId)\n",
        "      if path.exists(fileFolder) == False:\n",
        "        os.mkdir(fileFolder)\n",
        "      sitk.WriteImage(featureValue, '%s/%s.nrrd' % (fileFolder, featureName))\n",
        "      print('Computed %s, stored as \"%s/%s.nrrd\"' % (featureName, fileFolder, featureName))\n",
        "    else:\n",
        "      print('%s: %s' % (featureName, featureValue))\n",
        "\n",
        "monitorFilePath = '/content/drive/MyDrive/LuanVan/dataset/kernel5/1.monitor.csv'\n",
        "monitor = pd.read_csv(monitorFilePath, index_col='no')\n",
        "for i, row in monitor.iterrows():\n",
        "    if row['done'] != 0:\n",
        "        continue\n",
        "    fileId = row['file']\n",
        "    print('Starting %s' % (fileId))\n",
        "    featureExtractor(fileId)\n",
        "    monitor.at[i, 'done'] = 1\n",
        "    monitor.to_csv(monitorFilePath)"
      ]
    },
    {
      "cell_type": "code",
      "execution_count": null,
      "metadata": {
        "colab": {
          "base_uri": "https://localhost:8080/"
        },
        "id": "uoQheE-PqY5x",
        "outputId": "68ea407a-29fc-406b-cab9-646304c2d78d"
      },
      "outputs": [],
      "source": [
        "!python3 code.py"
      ]
    }
  ],
  "metadata": {
    "colab": {
      "include_colab_link": true,
      "name": "ColabRadiomicsFeatureExtractor.ipynb",
      "provenance": []
    },
    "kernelspec": {
      "display_name": "Python 3",
      "name": "python3"
    },
    "language_info": {
      "name": "python"
    }
  },
  "nbformat": 4,
  "nbformat_minor": 0
}
