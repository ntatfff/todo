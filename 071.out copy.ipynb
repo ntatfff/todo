{
 "cells": [
  {
   "cell_type": "code",
   "execution_count": 1,
   "metadata": {},
   "outputs": [],
   "source": [
    "from __future__ import print_function\n",
    "\n",
    "import logging\n",
    "import os\n",
    "\n",
    "import SimpleITK as sitk\n",
    "import six\n",
    "import numpy as np\n",
    "\n",
    "import radiomics\n",
    "from radiomics import featureextractor, getFeatureClasses\n",
    "from radiomics import glcm\n",
    "from radiomics.featureextractor import RadiomicsFeatureExtractor\n",
    "from tqdm import tqdm\n"
   ]
  },
  {
   "cell_type": "code",
   "execution_count": 2,
   "metadata": {},
   "outputs": [],
   "source": [
    "radiomics.setVerbosity(logging.INFO)\n",
    "radiomics.progressReporter = tqdm"
   ]
  },
  {
   "cell_type": "code",
   "execution_count": 3,
   "metadata": {},
   "outputs": [],
   "source": [
    "kernel = 2\n",
    "# size = 24\n",
    "\n",
    "# imageName = sitk.GetImageFromArray(np.random.randn(size, size, size))\n",
    "# # maskV = np.ones((size, size, size))\n",
    "# # maskV[0][0][0] = 0\n",
    "# maskName = sitk.GetImageFromArray(np.ones((size, size, size)))"
   ]
  },
  {
   "cell_type": "code",
   "execution_count": 4,
   "metadata": {},
   "outputs": [],
   "source": [
    "# imageName='dataset/BraTS2021_Training_Data/BraTS2021_00000/BraTS2021_00000_flair.nii.gz'\n",
    "maskPath='dataset/BraTS2021_Training_Data/BraTS2021_00000/BraTS2021_00000_seg2.nii.gz'\n",
    "# maskName = sitk.GetImageFromArray(np.ones(sitk.GetArrayFromImage(sitk.ReadImage(imagePath)).shape))\n",
    "maskName = sitk.ReadImage(maskPath)\n",
    "imagePath = 'dataset/BraTS2021_Training_Data/BraTS2021_00000/BraTS2021_00000_flair.nii.gz'\n",
    "imageName=sitk.ReadImage(imagePath)"
   ]
  },
  {
   "cell_type": "code",
   "execution_count": 5,
   "metadata": {},
   "outputs": [],
   "source": [
    "def get_default_features():\n",
    "    return ['JointEntropy']\n",
    "    # return ['Autocorrelation', 'JointAverage', 'ClusterProminence', 'ClusterShade',\n",
    "    #         'ClusterTendency', 'Contrast', 'Correlation', 'DifferenceAverage', 'DifferenceEntropy',\n",
    "    #         'DifferenceVariance', 'JointEnergy', 'JointEntropy', 'Imc1', 'Imc2',\n",
    "    #         'Idm', 'Idmn', 'Id', 'Idn', 'InverseVariance', 'MaximumProbability', 'SumEntropy', 'SumSquares']\n",
    "\n",
    "def get_default_settings():\n",
    "    settings = {}\n",
    "\n",
    "    # geometryTolerance = 1e-1\n",
    "    # settings[\"geometryTolerance\"] = geometryTolerance\n",
    "    # sitk.ProcessObject.SetGlobalDefaultCoordinateTolerance(geometryTolerance)\n",
    "    # sitk.ProcessObject.SetGlobalDefaultDirectionTolerance(geometryTolerance)\n",
    "\n",
    "    # settings[\"normalize\"] = True\n",
    "    # settings[\"normalizeScale\"] = 100\n",
    "    # settings[\"removeOutliers\"] = None\n",
    "    \n",
    "    # settings[\"resampledPixelSpacing\"] = None # We have already resampled\n",
    "    # # settings[\"resampledPixelSpacing\"] = [1, 1, 1]\n",
    "    # settings[\"interpolator\"] = sitk.sitkBSpline\n",
    "\n",
    "    # settings[\"binWidth\"] = 25\n",
    "    # settings[\"voxelArrayShift\"] = 300\n",
    "    # settings[\"enableCExtensions\"] = True\n",
    "    \n",
    "    return settings\n",
    "\n",
    "# imageType:\n",
    "#   Original: {}\n",
    "\n",
    "# featureClass:\n",
    "#   glcm:\n",
    "#     - JointEntropy\n",
    "\n",
    "# setting:\n",
    "#   binWidth: 25\n",
    "#   force2D: true\n",
    "#   label: 1\n",
    "\n",
    "# voxelSetting:\n",
    "#   kernelRadius: 2\n",
    "#   maskedKernel: true\n",
    "#   initValue: nan\n",
    "#   voxelBatch: 10000\n",
    "# def get_default_settings():\n",
    "#     settings = {}\n",
    "\n",
    "#     return settings"
   ]
  },
  {
   "cell_type": "code",
   "execution_count": 6,
   "metadata": {},
   "outputs": [
    {
     "name": "stderr",
     "output_type": "stream",
     "text": [
      "batch: 100%|██████████| 1390/1390.0 [44:48:27<00:00, 116.05s/it]       \n"
     ]
    }
   ],
   "source": [
    "# glcm.RadiomicsGLCM\n",
    "# rf_ext = RadiomicsFeatureExtractor(\n",
    "#         voxelBased=True, maskedKernel=False, voxelBatch=512,\n",
    "#         **get_default_settings())\n",
    "\n",
    "# img_norm, mask_norm = rf_ext.loadImage(imageName, maskName, None, **rf_ext.settings)\n",
    "\n",
    "# a_ext = glcm.RadiomicsGLCM(\n",
    "#         img_norm, mask_norm,\n",
    "#         voxelBased=True, padDistance=kernel,\n",
    "#         kernelRadius=kernel, maskedKernel=False, voxelBatch=1024,\n",
    "#         **get_default_settings())\n",
    "a_ext = glcm.RadiomicsGLCM(\n",
    "        imageName, maskName,\n",
    "        voxelBased=True, maskedKernel=False, voxelBatch=1024,\n",
    "        **get_default_settings())\n",
    "\n",
    "if get_default_features() is not None:\n",
    "        a_ext.disableAllFeatures()\n",
    "        for n in get_default_features():\n",
    "            a_ext.enableFeatureByName(n)\n",
    "\n",
    "a = a_ext.execute()"
   ]
  },
  {
   "cell_type": "code",
   "execution_count": 7,
   "metadata": {},
   "outputs": [
    {
     "data": {
      "text/plain": [
       "{'JointEntropy': <SimpleITK.SimpleITK.Image; proxy of <Swig Object of type 'itk::simple::Image *' at 0x000002767EA5FD80> >}"
      ]
     },
     "execution_count": 7,
     "metadata": {},
     "output_type": "execute_result"
    }
   ],
   "source": [
    "a"
   ]
  },
  {
   "cell_type": "code",
   "execution_count": 8,
   "metadata": {},
   "outputs": [],
   "source": [
    "featureMap = a['JointEntropy']\n",
    "featureData = sitk.GetArrayFromImage(featureMap)"
   ]
  },
  {
   "cell_type": "code",
   "execution_count": 9,
   "metadata": {},
   "outputs": [
    {
     "data": {
      "text/plain": [
       "(155, 240, 240)"
      ]
     },
     "execution_count": 9,
     "metadata": {},
     "output_type": "execute_result"
    }
   ],
   "source": [
    "featureData.shape"
   ]
  },
  {
   "cell_type": "code",
   "execution_count": 10,
   "metadata": {},
   "outputs": [
    {
     "data": {
      "text/plain": [
       "(155, 240, 240)"
      ]
     },
     "execution_count": 10,
     "metadata": {},
     "output_type": "execute_result"
    }
   ],
   "source": [
    "featureData.shape"
   ]
  },
  {
   "cell_type": "code",
   "execution_count": 11,
   "metadata": {},
   "outputs": [
    {
     "data": {
      "text/plain": [
       "(array([ 13,  17,  26,  33,  34,  34,  35,  35,  35,  35,  36,  37,  38,\n",
       "         42,  43,  44,  44,  44,  44,  44,  44,  44,  45,  45,  45,  45,\n",
       "         45,  46,  46,  46,  47,  48,  48,  48,  48,  49,  49,  49,  50,\n",
       "         51,  51,  51,  51,  52,  52,  53,  53,  53,  53,  53,  54,  54,\n",
       "         54,  55,  55,  55,  55,  55,  56,  56,  56,  57,  57,  57,  57,\n",
       "         57,  58,  58,  58,  58,  58,  58,  58,  58,  59,  59,  59,  59,\n",
       "         60,  60,  61,  61,  61,  61,  61,  62,  62,  62,  63,  63,  63,\n",
       "         63,  63,  63,  63,  63,  64,  64,  64,  64,  65,  65,  65,  65,\n",
       "         65,  65,  65,  65,  66,  66,  66,  66,  66,  66,  66,  66,  66,\n",
       "         67,  67,  67,  67,  67,  67,  67,  67,  68,  68,  68,  68,  68,\n",
       "         68,  68,  69,  69,  69,  69,  69,  69,  69,  69,  70,  70,  70,\n",
       "         70,  70,  70,  71,  71,  71,  71,  71,  71,  71,  71,  71,  72,\n",
       "         72,  72,  72,  72,  72,  72,  72,  72,  72,  72,  72,  72,  73,\n",
       "         73,  73,  73,  73,  73,  73,  73,  74,  74,  74,  74,  74,  74,\n",
       "         74,  74,  75,  75,  75,  75,  76,  76,  76,  76,  76,  76,  76,\n",
       "         76,  76,  76,  77,  77,  77,  77,  77,  77,  77,  77,  77,  77,\n",
       "         77,  77,  78,  78,  78,  78,  78,  78,  78,  78,  79,  79,  79,\n",
       "         79,  79,  79,  79,  79,  79,  79,  79,  79,  79,  79,  79,  80,\n",
       "         80,  80,  80,  80,  80,  80,  80,  80,  80,  80,  80,  80,  80,\n",
       "         80,  81,  81,  81,  82,  82,  82,  82,  83,  83,  83,  83,  83,\n",
       "         83,  83,  84,  84,  84,  84,  84,  84,  84,  84,  84,  84,  84,\n",
       "         84,  85,  85,  85,  85,  85,  85,  85,  85,  85,  85,  85,  86,\n",
       "         86,  86,  86,  86,  86,  86,  86,  87,  87,  87,  88,  88,  88,\n",
       "         88,  89,  89,  89,  89,  90,  90,  90,  90,  90,  90,  91,  91,\n",
       "         91,  92,  92,  92,  92,  92,  92,  92,  93,  93,  94,  94,  94,\n",
       "         94,  94,  94,  94,  94,  95,  95,  95,  96,  96,  97,  97,  97,\n",
       "         98,  98,  99,  99,  99,  99,  99, 100, 100, 100, 101, 101, 101,\n",
       "        101, 101, 101, 101, 101, 102, 102, 102, 102, 102, 102, 103, 103,\n",
       "        103, 104, 104, 104, 104, 105, 105, 105, 106, 106, 106, 106, 106,\n",
       "        107, 108, 108, 108, 108, 109, 109, 109, 109, 109, 110, 110, 110,\n",
       "        110, 110, 110, 111, 111, 111, 111, 111, 111, 111, 112, 112, 112,\n",
       "        112, 112, 112, 112, 112, 112, 112, 113, 113, 113, 113, 113, 113,\n",
       "        113, 113, 113, 113, 113, 113, 114, 114, 114, 114, 114, 114, 115,\n",
       "        115, 115, 115, 115, 115, 116, 116, 116, 117, 117, 117, 118, 118,\n",
       "        118, 119, 119, 119, 120, 120, 120, 120, 121, 121, 121, 121, 121,\n",
       "        122, 122, 122, 122, 123, 123, 123, 124, 124, 124, 124, 124, 125,\n",
       "        125, 126, 126, 126, 128, 130, 132, 132, 132, 132, 133, 133, 133,\n",
       "        135, 135, 136, 136, 136, 136, 136, 139, 142, 142, 142, 143],\n",
       "       dtype=int64),\n",
       " array([167, 175, 174, 186, 176, 180, 177, 177, 181, 181, 177, 111, 179,\n",
       "        181, 182, 120, 142, 163, 164, 169, 188, 188, 107, 162, 163, 175,\n",
       "        176,  93, 148, 159, 165,  88, 131, 163, 165, 102, 131, 160, 127,\n",
       "        101, 127, 144, 150,  56, 191,  84,  95, 105, 111, 200,  65, 135,\n",
       "        144,  56,  89, 106, 174, 191,  58, 105, 173, 102, 103, 147, 158,\n",
       "        165,  49,  62,  72, 104, 109, 169, 191, 206,  65,  78, 104, 196,\n",
       "        122, 176,  61,  64,  68, 124, 156,  89, 117, 153,  66,  96, 105,\n",
       "        118, 163, 186, 194, 198,  46,  47,  55,  93,  53,  53,  57,  58,\n",
       "         81,  94, 100, 165,  47,  59,  70,  71, 118, 122, 137, 154, 175,\n",
       "         67,  67, 124, 135, 162, 163, 186, 189,  49, 102, 122, 152, 153,\n",
       "        174, 199,  50,  84, 104, 105, 122, 133, 157, 207,  45,  49,  49,\n",
       "        105, 153, 177,  49,  49,  67, 100, 114, 130, 152, 192, 193,  46,\n",
       "         47,  50,  50,  64,  88, 116, 119, 135, 145, 155, 157, 173,  47,\n",
       "         50,  66,  88,  94, 148, 166, 174,  44,  48,  61, 103, 107, 117,\n",
       "        136, 174, 123, 125, 161, 162,  51,  51,  79,  86,  96,  97, 149,\n",
       "        168, 200, 206,  43,  51,  79, 120, 121, 123, 123, 134, 204, 204,\n",
       "        204, 206,  45,  92, 107, 108, 120, 142, 147, 178,  42,  61,  62,\n",
       "         63,  71,  80,  81,  92, 113, 114, 118, 138, 177, 178, 198,  51,\n",
       "         52,  52,  87, 110, 111, 114, 114, 117, 121, 129, 130, 170, 171,\n",
       "        188,  90,  99, 129,  43,  56, 137, 140,  78,  99, 105, 161, 197,\n",
       "        199, 200,  47,  58,  88,  89, 125, 131, 135, 138, 140, 172, 174,\n",
       "        188,  43,  43,  44,  56,  56,  57, 102, 142, 144, 170, 173,  49,\n",
       "         51,  56,  63, 102, 133, 196, 197,  44,  62, 150,  44,  54,  76,\n",
       "        131,  51,  64, 156, 197,  56,  57, 105, 108, 128, 156,  63, 108,\n",
       "        138,  47,  55,  93, 105, 106, 189, 189,  47,  94,  47,  57,  58,\n",
       "         61,  62, 116, 130, 191,  59, 114, 114, 115, 191,  79, 132, 169,\n",
       "         53,  63,  53,  62,  63,  83, 169,  51,  61,  73,  51,  52,  60,\n",
       "         81, 110, 132, 133, 190,  53,  66, 166, 187, 188, 189,  65, 189,\n",
       "        196,  51,  56, 103, 139, 103, 113, 188,  52,  54,  65, 176, 188,\n",
       "        180,  52,  61,  89, 178,  67,  73,  74,  88, 189,  60,  61,  73,\n",
       "         74, 119, 163,  59,  66,  73, 103, 145, 163, 183,  80, 159, 167,\n",
       "        168, 168, 182, 183, 184, 186, 186,  70,  77,  96, 113, 129, 130,\n",
       "        147, 148, 186, 186, 188, 188, 140, 141, 142, 143, 153, 172,  65,\n",
       "         66,  67, 143, 166, 186,  59,  62, 167, 171, 173, 174, 101, 119,\n",
       "        120, 172, 176, 176,  67, 121, 179, 180,  64,  66,  81, 157, 181,\n",
       "         78,  81,  90, 120, 104, 176, 182,  96, 101, 103, 164, 165, 107,\n",
       "        173,  78, 107, 152, 124,  93, 163, 166, 172, 172,  92, 139, 162,\n",
       "        165, 166,  98, 152, 152, 166, 166, 164, 114, 124, 151, 112],\n",
       "       dtype=int64),\n",
       " array([154, 144, 158, 126,  81, 153,  82,  83,  86, 151,  81, 147,  83,\n",
       "        148, 125, 182, 179,  83,  85,  79, 146, 147, 180, 161, 169, 159,\n",
       "         81, 152, 170,  69, 149, 152, 103, 150, 150,  61, 102,  68, 184,\n",
       "        150, 184, 181, 139, 114, 152,  84,  84, 148, 110, 139, 135, 136,\n",
       "        183, 130,  81, 163, 132, 152, 133, 135, 115,  86, 121, 132, 178,\n",
       "        176, 113, 122, 162, 158, 101,  65, 156, 129, 147, 165, 159, 112,\n",
       "         73,  72, 145, 122, 150, 176, 115,  78, 176, 180,  83, 159, 162,\n",
       "        164,  68, 160, 114, 148, 113, 113, 123, 117, 123, 124,  93,  93,\n",
       "        173, 174, 123, 177, 126, 150, 173, 173, 182,  65, 183, 143, 134,\n",
       "        150, 168,  68, 184, 122, 103, 156,  86, 122,  75,  80,  92, 145,\n",
       "        172, 111, 153, 174, 118,  73,  78, 121, 145, 119, 135, 107, 152,\n",
       "         81, 127,  71, 153, 154,  75,  82, 165,  63, 127,  83,  83, 100,\n",
       "        121, 122, 123, 118, 176, 164, 164, 160,  63,  97, 173,  70,  98,\n",
       "        105,  77, 173,  83,  93, 114,  70, 136,  96, 121, 175, 166, 171,\n",
       "         72,  69, 164, 164, 121, 179,  89, 160,  76,  88, 161, 162, 100,\n",
       "        175,  93, 129, 130, 160,  76,  80,  74, 170, 171, 182, 132, 133,\n",
       "        134, 129, 119, 179, 177,  82, 180, 124, 100, 164, 113, 168, 168,\n",
       "        168, 118, 178, 178, 179, 124, 123, 174, 173, 169, 163, 113, 156,\n",
       "        149, 160,  67, 119, 161, 161, 162, 162, 162, 180, 180, 134, 173,\n",
       "        157, 175, 172, 180, 137, 161, 117, 154, 176,  72, 113, 178, 145,\n",
       "        110, 140, 105,  81, 178, 178, 159, 171,  58, 154, 164, 172,  68,\n",
       "        149, 117, 135, 108, 118, 119,  82, 179, 127, 133,  69,  68, 152,\n",
       "         93, 100, 121, 122, 182, 145, 144, 110, 166,  61, 138, 157,  73,\n",
       "        159, 100,  94, 163, 145, 155, 157, 109, 173, 106, 162, 164, 173,\n",
       "        134, 106, 121, 180, 107, 108, 115, 154, 101, 180, 134,  93, 126,\n",
       "         95, 123, 107, 180,  88,  94, 120, 121, 120, 109, 171, 178,  71,\n",
       "        150, 121, 150, 121, 121, 173, 169, 101, 119,  81, 144, 144, 121,\n",
       "        170, 161,  62,  62, 118, 141, 147, 171,  94,  94, 149, 150,  91,\n",
       "        127, 129, 106, 174, 120, 174, 179, 132, 117, 138, 151,  79, 118,\n",
       "        156, 129, 143, 116, 159, 122, 122, 148, 168, 110, 108, 107,  98,\n",
       "        122, 172, 167, 119,  97, 155,  71, 168, 169, 119, 158, 171, 163,\n",
       "        163, 164, 118, 139, 139, 117, 141, 122, 154,  81, 169,  69,  73,\n",
       "        173,  73, 121, 141, 137, 138, 171,  67, 170, 170,  71,  89, 119,\n",
       "        120, 120, 170, 155, 123, 130, 118,  83, 138,  95,  95, 165, 120,\n",
       "        120, 152, 141, 145, 109, 120, 135, 135, 131, 129, 105,  83, 134,\n",
       "        100, 105, 142,  80,  93, 138, 125, 151, 160,  93, 156, 119,  94,\n",
       "        117, 139,  94,  82, 152, 108, 119, 120, 124, 129, 111, 136, 119,\n",
       "        118, 118, 135, 120, 137, 118, 119, 125, 134, 119, 113, 115],\n",
       "       dtype=int64))"
      ]
     },
     "execution_count": 11,
     "metadata": {},
     "output_type": "execute_result"
    }
   ],
   "source": [
    "# featureData.\n",
    "np.where(featureData == 4.53996538528106)"
   ]
  },
  {
   "cell_type": "code",
   "execution_count": 12,
   "metadata": {},
   "outputs": [
    {
     "data": {
      "text/plain": [
       "0.0"
      ]
     },
     "execution_count": 12,
     "metadata": {},
     "output_type": "execute_result"
    }
   ],
   "source": [
    "featureData[61][100][144]"
   ]
  },
  {
   "cell_type": "code",
   "execution_count": 13,
   "metadata": {},
   "outputs": [
    {
     "data": {
      "text/plain": [
       "0.6793804462741585"
      ]
     },
     "execution_count": 13,
     "metadata": {},
     "output_type": "execute_result"
    }
   ],
   "source": [
    "featureData.mean()"
   ]
  }
 ],
 "metadata": {
  "kernelspec": {
   "display_name": "Python 3",
   "language": "python",
   "name": "python3"
  },
  "language_info": {
   "codemirror_mode": {
    "name": "ipython",
    "version": 3
   },
   "file_extension": ".py",
   "mimetype": "text/x-python",
   "name": "python",
   "nbconvert_exporter": "python",
   "pygments_lexer": "ipython3",
   "version": "3.10.0"
  }
 },
 "nbformat": 4,
 "nbformat_minor": 2
}
