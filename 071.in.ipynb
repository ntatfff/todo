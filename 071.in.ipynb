{
 "cells": [
  {
   "cell_type": "code",
   "execution_count": 13,
   "metadata": {},
   "outputs": [],
   "source": [
    "from __future__ import print_function\n",
    "\n",
    "import logging\n",
    "import os\n",
    "\n",
    "import SimpleITK as sitk\n",
    "import six\n",
    "import numpy as np\n",
    "\n",
    "import radiomics\n",
    "from radiomics import featureextractor, getFeatureClasses\n",
    "from radiomics import glcm\n",
    "from radiomics.featureextractor import RadiomicsFeatureExtractor\n",
    "from tqdm import tqdm\n"
   ]
  },
  {
   "cell_type": "code",
   "execution_count": 14,
   "metadata": {},
   "outputs": [],
   "source": [
    "radiomics.setVerbosity(logging.INFO)\n",
    "radiomics.progressReporter = tqdm"
   ]
  },
  {
   "cell_type": "code",
   "execution_count": 15,
   "metadata": {},
   "outputs": [],
   "source": [
    "kernel = 2\n",
    "# size = 24\n",
    "\n",
    "# imageName = sitk.GetImageFromArray(np.random.randn(size, size, size))\n",
    "# # maskV = np.ones((size, size, size))\n",
    "# # maskV[0][0][0] = 0\n",
    "# maskName = sitk.GetImageFromArray(np.ones((size, size, size)))"
   ]
  },
  {
   "cell_type": "code",
   "execution_count": 16,
   "metadata": {},
   "outputs": [],
   "source": [
    "maskPath='dataset/BraTS2021_Training_Data/BraTS2021_00000/BraTS2021_00000_seg.nii.gz'\n",
    "maskName = sitk.ReadImage(maskPath)\n",
    "imagePath = 'dataset/BraTS2021_Training_Data/BraTS2021_00000/BraTS2021_00000_flair.nii.gz'\n",
    "imageName=sitk.ReadImage(imagePath)"
   ]
  },
  {
   "cell_type": "code",
   "execution_count": 17,
   "metadata": {},
   "outputs": [],
   "source": [
    "def get_default_features():\n",
    "    return None\n",
    "    # return ['JointEntropy']\n",
    "    # return ['Autocorrelation', 'JointAverage', 'ClusterProminence', 'ClusterShade',\n",
    "    #         'ClusterTendency', 'Contrast', 'Correlation', 'DifferenceAverage', 'DifferenceEntropy',\n",
    "    #         'DifferenceVariance', 'JointEnergy', 'JointEntropy', 'Imc1', 'Imc2',\n",
    "    #         'Idm', 'Idmn', 'Id', 'Idn', 'InverseVariance', 'MaximumProbability', 'SumEntropy', 'SumSquares']\n",
    "\n",
    "def get_default_settings():\n",
    "    settings = {}\n",
    "\n",
    "    # geometryTolerance = 1e-1\n",
    "    # settings[\"geometryTolerance\"] = geometryTolerance\n",
    "    # sitk.ProcessObject.SetGlobalDefaultCoordinateTolerance(geometryTolerance)\n",
    "    # sitk.ProcessObject.SetGlobalDefaultDirectionTolerance(geometryTolerance)\n",
    "\n",
    "    # settings[\"normalize\"] = True\n",
    "    # settings[\"normalizeScale\"] = 100\n",
    "    # settings[\"removeOutliers\"] = None\n",
    "    \n",
    "    # settings[\"resampledPixelSpacing\"] = None # We have already resampled\n",
    "    # # settings[\"resampledPixelSpacing\"] = [1, 1, 1]\n",
    "    # settings[\"interpolator\"] = sitk.sitkBSpline\n",
    "\n",
    "    # settings[\"binWidth\"] = 25\n",
    "    # settings[\"voxelArrayShift\"] = 300\n",
    "    # settings[\"enableCExtensions\"] = True\n",
    "    \n",
    "    return settings\n",
    "\n",
    "# imageType:\n",
    "#   Original: {}\n",
    "\n",
    "# featureClass:\n",
    "#   glcm:\n",
    "#     - JointEntropy\n",
    "\n",
    "# setting:\n",
    "#   binWidth: 25\n",
    "#   force2D: true\n",
    "#   label: 1\n",
    "\n",
    "# voxelSetting:\n",
    "#   kernelRadius: 2\n",
    "#   maskedKernel: true\n",
    "#   initValue: nan\n",
    "#   voxelBatch: 10000\n",
    "# def get_default_settings():\n",
    "#     settings = {}\n",
    "\n",
    "#     return settings"
   ]
  },
  {
   "cell_type": "code",
   "execution_count": 18,
   "metadata": {},
   "outputs": [
    {
     "name": "stderr",
     "output_type": "stream",
     "text": [
      "batch: 100%|██████████| 12/12.0 [01:20<00:00,  6.74s/it]\n"
     ]
    }
   ],
   "source": [
    "# glcm.RadiomicsGLCM\n",
    "# rf_ext = RadiomicsFeatureExtractor(\n",
    "#         voxelBased=True, maskedKernel=False, voxelBatch=512,\n",
    "#         **get_default_settings())\n",
    "\n",
    "# img_norm, mask_norm = rf_ext.loadImage(imageName, maskName, None, **rf_ext.settings)\n",
    "\n",
    "# a_ext = glcm.RadiomicsGLCM(\n",
    "#         img_norm, mask_norm,\n",
    "#         voxelBased=True, padDistance=kernel,\n",
    "#         kernelRadius=kernel, maskedKernel=False, voxelBatch=1024,\n",
    "#         **get_default_settings())\n",
    "a_ext = glcm.RadiomicsGLCM(\n",
    "        imageName, maskName,\n",
    "        voxelBased=True, maskedKernel=False, voxelBatch=1024,\n",
    "        **get_default_settings())\n",
    "\n",
    "if get_default_features() is not None:\n",
    "        a_ext.disableAllFeatures()\n",
    "        for n in get_default_features():\n",
    "            a_ext.enableFeatureByName(n)\n",
    "\n",
    "a = a_ext.execute()"
   ]
  },
  {
   "cell_type": "code",
   "execution_count": 19,
   "metadata": {},
   "outputs": [
    {
     "data": {
      "text/plain": [
       "{'JointEntropy': <SimpleITK.SimpleITK.Image; proxy of <Swig Object of type 'itk::simple::Image *' at 0x000001AE3E053D20> >}"
      ]
     },
     "execution_count": 19,
     "metadata": {},
     "output_type": "execute_result"
    }
   ],
   "source": [
    "a"
   ]
  },
  {
   "cell_type": "code",
   "execution_count": 20,
   "metadata": {},
   "outputs": [],
   "source": [
    "featureMap = a['JointEntropy']\n",
    "featureData = sitk.GetArrayFromImage(featureMap)"
   ]
  },
  {
   "cell_type": "code",
   "execution_count": 21,
   "metadata": {},
   "outputs": [
    {
     "data": {
      "text/plain": [
       "(155, 240, 240)"
      ]
     },
     "execution_count": 21,
     "metadata": {},
     "output_type": "execute_result"
    }
   ],
   "source": [
    "featureData.shape"
   ]
  },
  {
   "cell_type": "code",
   "execution_count": 22,
   "metadata": {},
   "outputs": [
    {
     "data": {
      "text/plain": [
       "(155, 240, 240)"
      ]
     },
     "execution_count": 22,
     "metadata": {},
     "output_type": "execute_result"
    }
   ],
   "source": [
    "featureData.shape"
   ]
  },
  {
   "cell_type": "code",
   "execution_count": 23,
   "metadata": {},
   "outputs": [
    {
     "data": {
      "text/plain": [
       "(array([61, 62, 62, 63, 72, 72, 73, 73, 75, 76, 78, 79, 79, 79, 84],\n",
       "       dtype=int64),\n",
       " array([100,  73,  74,  84,  84,  85,  74,  75,  90,  87,  74,  74,  74,\n",
       "         88,  92], dtype=int64),\n",
       " array([144, 137, 137, 132, 149, 152, 145, 145, 148, 131, 144, 141, 144,\n",
       "        132, 139], dtype=int64))"
      ]
     },
     "execution_count": 23,
     "metadata": {},
     "output_type": "execute_result"
    }
   ],
   "source": [
    "# featureData.\n",
    "np.where(featureData == 4.53996538528106)"
   ]
  },
  {
   "cell_type": "code",
   "execution_count": 24,
   "metadata": {},
   "outputs": [
    {
     "data": {
      "text/plain": [
       "4.53996538528106"
      ]
     },
     "execution_count": 24,
     "metadata": {},
     "output_type": "execute_result"
    }
   ],
   "source": [
    "featureData[61][100][144]"
   ]
  },
  {
   "cell_type": "code",
   "execution_count": 25,
   "metadata": {},
   "outputs": [
    {
     "data": {
      "text/plain": [
       "0.005851361887708959"
      ]
     },
     "execution_count": 25,
     "metadata": {},
     "output_type": "execute_result"
    }
   ],
   "source": [
    "featureData.mean()"
   ]
  }
 ],
 "metadata": {
  "kernelspec": {
   "display_name": "Python 3",
   "language": "python",
   "name": "python3"
  },
  "language_info": {
   "codemirror_mode": {
    "name": "ipython",
    "version": 3
   },
   "file_extension": ".py",
   "mimetype": "text/x-python",
   "name": "python",
   "nbconvert_exporter": "python",
   "pygments_lexer": "ipython3",
   "version": "3.10.0"
  }
 },
 "nbformat": 4,
 "nbformat_minor": 2
}
