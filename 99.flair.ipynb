{
 "cells": [
  {
   "cell_type": "code",
   "execution_count": 20,
   "metadata": {},
   "outputs": [],
   "source": [
    "import logging\n",
    "import os\n",
    "\n",
    "import SimpleITK as sitk\n",
    "import six\n",
    "import numpy as np\n",
    "\n",
    "import radiomics\n",
    "from radiomics import featureextractor, getFeatureClasses\n",
    "from radiomics import glcm\n",
    "from radiomics.featureextractor import RadiomicsFeatureExtractor\n",
    "from tqdm import tqdm"
   ]
  },
  {
   "cell_type": "code",
   "execution_count": 21,
   "metadata": {},
   "outputs": [],
   "source": [
    "flairPath='dataset/BraTS2021_Training_Data/BraTS2021_00000/BraTS2021_00000_flair.nii.gz'\n",
    "flairImage=sitk.ReadImage(flairPath)\n",
    "flairData=sitk.GetArrayFromImage(flairImage)"
   ]
  },
  {
   "cell_type": "code",
   "execution_count": 22,
   "metadata": {},
   "outputs": [],
   "source": [
    "maskPath='dataset/BraTS2021_Training_Data/BraTS2021_00000/BraTS2021_00000_seg.nii.gz'\n",
    "maskImage=sitk.ReadImage(maskPath)\n",
    "maskData=sitk.GetArrayFromImage(maskImage)"
   ]
  },
  {
   "cell_type": "code",
   "execution_count": 23,
   "metadata": {},
   "outputs": [
    {
     "data": {
      "text/plain": [
       "0"
      ]
     },
     "execution_count": 23,
     "metadata": {},
     "output_type": "execute_result"
    }
   ],
   "source": [
    "flairData[0,0,0]"
   ]
  },
  {
   "cell_type": "code",
   "execution_count": 24,
   "metadata": {},
   "outputs": [
    {
     "data": {
      "text/plain": [
       "0"
      ]
     },
     "execution_count": 24,
     "metadata": {},
     "output_type": "execute_result"
    }
   ],
   "source": [
    "flairData.min()"
   ]
  },
  {
   "cell_type": "code",
   "execution_count": 25,
   "metadata": {},
   "outputs": [],
   "source": [
    "# np.divide(maskData,maskData,out=np.ones_like(maskData),where=maskData!=0)\n",
    "\n",
    "c = np.divide(flairData,flairData,out=np.zeros_like(flairData),where=flairData!=0.0, casting='unsafe')\n"
   ]
  },
  {
   "cell_type": "code",
   "execution_count": 27,
   "metadata": {},
   "outputs": [
    {
     "data": {
      "text/plain": [
       "{0: 8870695, 1: 11738, 2: 12836, 4: 32731}"
      ]
     },
     "execution_count": 27,
     "metadata": {},
     "output_type": "execute_result"
    }
   ],
   "source": [
    "munique, mcounts = np.unique(maskData, return_counts=True)\n",
    "dict(zip(munique, mcounts))"
   ]
  },
  {
   "cell_type": "code",
   "execution_count": 29,
   "metadata": {},
   "outputs": [
    {
     "data": {
      "text/plain": [
       "{0: 7447830, 1: 1480170}"
      ]
     },
     "execution_count": 29,
     "metadata": {},
     "output_type": "execute_result"
    }
   ],
   "source": [
    "unique, counts = np.unique(c, return_counts=True)\n",
    "dict(zip(unique, counts))"
   ]
  },
  {
   "cell_type": "code",
   "execution_count": 30,
   "metadata": {},
   "outputs": [],
   "source": [
    "d = np.add(c, maskData, out=np.zeros_like(c), where=maskData==0.0, casting='unsafe')"
   ]
  },
  {
   "cell_type": "code",
   "execution_count": 31,
   "metadata": {},
   "outputs": [
    {
     "data": {
      "text/plain": [
       "{0: 7505135, 1: 1422865}"
      ]
     },
     "execution_count": 31,
     "metadata": {},
     "output_type": "execute_result"
    }
   ],
   "source": [
    "dunique, dcounts = np.unique(d, return_counts=True)\n",
    "dict(zip(dunique, dcounts))"
   ]
  },
  {
   "cell_type": "code",
   "execution_count": 32,
   "metadata": {},
   "outputs": [],
   "source": [
    "import nibabel as nib"
   ]
  },
  {
   "cell_type": "code",
   "execution_count": 34,
   "metadata": {},
   "outputs": [],
   "source": [
    "ni_img = nib.Nifti1Image(d, affine=np.eye(4))\n",
    "\n",
    "nib.save(ni_img, 'output.nii.gz')"
   ]
  }
 ],
 "metadata": {
  "kernelspec": {
   "display_name": "Python 3",
   "language": "python",
   "name": "python3"
  },
  "language_info": {
   "codemirror_mode": {
    "name": "ipython",
    "version": 3
   },
   "file_extension": ".py",
   "mimetype": "text/x-python",
   "name": "python",
   "nbconvert_exporter": "python",
   "pygments_lexer": "ipython3",
   "version": "3.10.0"
  }
 },
 "nbformat": 4,
 "nbformat_minor": 2
}
