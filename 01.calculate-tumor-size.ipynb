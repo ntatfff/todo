{
 "cells": [
  {
   "cell_type": "code",
   "execution_count": 4,
   "metadata": {},
   "outputs": [],
   "source": [
    "import nibabel as nib\n",
    "import numpy as np"
   ]
  },
  {
   "cell_type": "markdown",
   "metadata": {},
   "source": [
    "# Load the MRI Files\n",
    "You will use nibabel to load both the FLAIR and segmentation files:"
   ]
  },
  {
   "cell_type": "code",
   "execution_count": 5,
   "metadata": {},
   "outputs": [],
   "source": [
    "# Load the FLAIR image and the segmentation mask\n",
    "flair_path = 'dataset/BraTS2021_00495/BraTS2021_00495_flair.nii.gz'\n",
    "segmentation_path = 'dataset/BraTS2021_00495/BraTS2021_00495_seg.nii.gz'\n",
    "\n",
    "flair_image = nib.load(flair_path).get_fdata()\n",
    "segmentation_mask = nib.load(segmentation_path).get_fdata()"
   ]
  },
  {
   "cell_type": "markdown",
   "metadata": {},
   "source": [
    "# Analyze the Segmentation Mask\n",
    "The segmentation mask typically contains labels that indicate different tissues or abnormalities. In your case, the mask should indicate where the tumor is located. Usually, the tumor is labeled with a specific integer value in the mask. Assuming the tumor is labeled with the value 1:"
   ]
  },
  {
   "cell_type": "code",
   "execution_count": 6,
   "metadata": {},
   "outputs": [],
   "source": [
    "# Extract the tumor mask (assuming the tumor is labeled with '1')\n",
    "tumor_mask = segmentation_mask == 1"
   ]
  },
  {
   "cell_type": "markdown",
   "metadata": {},
   "source": [
    "# Calculate the Tumor Volume\n",
    "To calculate the tumor size, you will calculate the volume of the voxels labeled as a tumor in the segmentation mask. You also need to account for the voxel size, which can be extracted from the header of the NIfTI files."
   ]
  },
  {
   "cell_type": "code",
   "execution_count": 9,
   "metadata": {},
   "outputs": [
    {
     "data": {
      "text/plain": [
       "np.float64(20808.0)"
      ]
     },
     "execution_count": 9,
     "metadata": {},
     "output_type": "execute_result"
    }
   ],
   "source": [
    "# Get the voxel dimensions from the header (in mm)\n",
    "voxel_dimensions = nib.load(segmentation_path).header.get_zooms()\n",
    "\n",
    "# Calculate the volume of a single voxel\n",
    "voxel_volume = np.prod(voxel_dimensions)  # in mm³\n",
    "\n",
    "# Calculate the number of tumor voxels\n",
    "num_tumor_voxels = np.sum(tumor_mask)\n",
    "\n",
    "# Calculate the total tumor volume\n",
    "tumor_volume = num_tumor_voxels * voxel_volume  # in mm³\n",
    "\n",
    "tumor_volume"
   ]
  }
 ],
 "metadata": {
  "kernelspec": {
   "display_name": "Python 3",
   "language": "python",
   "name": "python3"
  },
  "language_info": {
   "codemirror_mode": {
    "name": "ipython",
    "version": 3
   },
   "file_extension": ".py",
   "mimetype": "text/x-python",
   "name": "python",
   "nbconvert_exporter": "python",
   "pygments_lexer": "ipython3",
   "version": "3.10.0"
  }
 },
 "nbformat": 4,
 "nbformat_minor": 2
}
