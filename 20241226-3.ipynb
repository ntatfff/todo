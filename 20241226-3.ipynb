{
 "cells": [
  {
   "cell_type": "code",
   "execution_count": 1,
   "metadata": {},
   "outputs": [
    {
     "name": "stdout",
     "output_type": "stream",
     "text": [
      "Requirement already satisfied: pandas in d:\\desktop\\workspace\\todo\\.venv\\lib\\site-packages (2.2.3)Note: you may need to restart the kernel to use updated packages.\n",
      "\n",
      "Requirement already satisfied: numpy>=1.22.4 in d:\\desktop\\workspace\\todo\\.venv\\lib\\site-packages (from pandas) (1.26.4)\n",
      "Requirement already satisfied: python-dateutil>=2.8.2 in d:\\desktop\\workspace\\todo\\.venv\\lib\\site-packages (from pandas) (2.9.0.post0)\n",
      "Requirement already satisfied: pytz>=2020.1 in d:\\desktop\\workspace\\todo\\.venv\\lib\\site-packages (from pandas) (2024.2)\n",
      "Requirement already satisfied: tzdata>=2022.7 in d:\\desktop\\workspace\\todo\\.venv\\lib\\site-packages (from pandas) (2024.2)\n",
      "Requirement already satisfied: six>=1.5 in d:\\desktop\\workspace\\todo\\.venv\\lib\\site-packages (from python-dateutil>=2.8.2->pandas) (1.17.0)\n"
     ]
    }
   ],
   "source": [
    "%pip install pandas==2.2.3"
   ]
  },
  {
   "cell_type": "code",
   "execution_count": 2,
   "metadata": {},
   "outputs": [],
   "source": [
    "import pandas as pd"
   ]
  },
  {
   "cell_type": "code",
   "execution_count": 2,
   "metadata": {},
   "outputs": [
    {
     "data": {
      "text/plain": [
       "array([[[ 6.8,  4.4,  5.9],\n",
       "        [ 9.4,  6.8, 10.4],\n",
       "        [16.6, 23. , 51.6]],\n",
       "\n",
       "       [[ 4.4,  3.1,  1.7],\n",
       "        [ 6.8,  6.4,  5.9],\n",
       "        [ 5.8,  8.2, 12.2]],\n",
       "\n",
       "       [[ 2.8,  4.4,  5.6],\n",
       "        [ 4.4,  6.8,  8.2],\n",
       "        [ 2.8,  4.6,  7. ]]])"
      ]
     },
     "execution_count": 2,
     "metadata": {},
     "output_type": "execute_result"
    }
   ],
   "source": [
    "df = pd.read_csv('4-tumor-bounding-box-2.csv')\n",
    "df.where(df['volumn'] > pow((5*2)+1, 3))"
   ]
  },
  {
   "cell_type": "code",
   "execution_count": 2,
   "metadata": {},
   "outputs": [],
   "source": [
    "imageSize = (3, 3, 3)\n",
    "\n",
    "mask_data = np.ones(imageSize, dtype=int)\n",
    "# mask_data = np.zeros(imageSize, dtype=int)\n",
    "# mask_data[0,0,0] = 1\n",
    "# mask_data[2,2,2] = 1\n",
    "mask = sitk.GetImageFromArray(mask_data)\n",
    "# image = sitk.GetImageFromArray(np.random.randint(0, 100, size=imageSize))\n",
    "image_data = [[[81, 98,  1],\n",
    "  [22, 74, 98],\n",
    "  [78, 32, 60]],\n",
    "\n",
    " [[59,  8, 38],\n",
    "  [ 4, 82, 67],\n",
    "  [70, 94, 98]],\n",
    "\n",
    " [[38, 27, 89],\n",
    "  [59,  0, 93],\n",
    "  [70, 60, 10]]]\n",
    "\n",
    "image = sitk.GetImageFromArray(image_data)"
   ]
  },
  {
   "cell_type": "code",
   "execution_count": null,
   "metadata": {},
   "outputs": [],
   "source": [
    "print(sitk.GetArrayFromImage(image))\n",
    "print(sitk.GetArrayFromImage(mask))"
   ]
  },
  {
   "cell_type": "code",
   "execution_count": null,
   "metadata": {},
   "outputs": [],
   "source": [
    "import radiomics.featureextractor\n",
    "import os\n",
    "\n",
    "settings = {}\n",
    "settings['kernelRadius'] = 1\n",
    "extractor = radiomics.featureextractor.RadiomicsFeatureExtractor(**settings)\n",
    "featureMap = extractor.execute(image, mask, voxelBased=True)"
   ]
  },
  {
   "cell_type": "code",
   "execution_count": null,
   "metadata": {},
   "outputs": [],
   "source": [
    "features = featureMap['original_firstorder_Energy']\n",
    "sitk.GetArrayFromImage(features)"
   ]
  },
  {
   "cell_type": "code",
   "execution_count": null,
   "metadata": {},
   "outputs": [],
   "source": [
    "import six\n",
    "\n",
    "for featureName, featureValue in six.iteritems(featureMap):\n",
    "  if isinstance(featureValue, sitk.Image):\n",
    "    sitk.WriteImage(featureValue, '%s_%s.nrrd' % ('testCase', featureName))\n",
    "    print('Computed %s, stored as \"%s_%s.nrrd\"' % (featureName, 'testCase', featureName))\n",
    "  else:\n",
    "    print('%s: %s' % (featureName, featureValue))"
   ]
  }
 ],
 "metadata": {
  "kernelspec": {
   "display_name": ".venv",
   "language": "python",
   "name": "python3"
  },
  "language_info": {
   "codemirror_mode": {
    "name": "ipython",
    "version": 3
   },
   "file_extension": ".py",
   "mimetype": "text/x-python",
   "name": "python",
   "nbconvert_exporter": "python",
   "pygments_lexer": "ipython3",
   "version": "3.9.0"
  }
 },
 "nbformat": 4,
 "nbformat_minor": 2
}
