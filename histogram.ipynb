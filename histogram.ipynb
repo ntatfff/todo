{
  "cells": [
    {
      "cell_type": "markdown",
      "metadata": {
        "colab_type": "text",
        "id": "view-in-github"
      },
      "source": [
        "<a href=\"https://colab.research.google.com/github/ntatfff/todo/blob/202411241258/histogram.ipynb\" target=\"_parent\"><img src=\"https://colab.research.google.com/assets/colab-badge.svg\" alt=\"Open In Colab\"/></a>"
      ]
    },
    {
      "cell_type": "code",
      "execution_count": 1,
      "metadata": {
        "colab": {
          "base_uri": "https://localhost:8080/"
        },
        "id": "r27Zvu26CtOM",
        "outputId": "2e85a6a6-f90f-442f-8a38-1b325ecc4c1c"
      },
      "outputs": [
        {
          "name": "stdout",
          "output_type": "stream",
          "text": [
            "Collecting plotlyNote: you may need to restart the kernel to use updated packages.\n",
            "\n",
            "  Downloading plotly-5.24.1-py3-none-any.whl.metadata (7.3 kB)\n",
            "Collecting tenacity>=6.2.0 (from plotly)\n",
            "  Downloading tenacity-9.0.0-py3-none-any.whl.metadata (1.2 kB)\n",
            "Requirement already satisfied: packaging in d:\\desktop\\workspace\\todo\\.venv\\lib\\site-packages (from plotly) (24.2)\n",
            "Downloading plotly-5.24.1-py3-none-any.whl (19.1 MB)\n",
            "   ---------------------------------------- 0.0/19.1 MB ? eta -:--:--\n",
            "    --------------------------------------- 0.3/19.1 MB ? eta -:--:--\n",
            "   --- ------------------------------------ 1.6/19.1 MB 5.2 MB/s eta 0:00:04\n",
            "   ------ --------------------------------- 3.1/19.1 MB 5.8 MB/s eta 0:00:03\n",
            "   -------- ------------------------------- 3.9/19.1 MB 5.3 MB/s eta 0:00:03\n",
            "   ----------- ---------------------------- 5.5/19.1 MB 5.6 MB/s eta 0:00:03\n",
            "   ------------- -------------------------- 6.3/19.1 MB 5.3 MB/s eta 0:00:03\n",
            "   --------------- ------------------------ 7.6/19.1 MB 5.5 MB/s eta 0:00:03\n",
            "   ------------------- -------------------- 9.2/19.1 MB 5.6 MB/s eta 0:00:02\n",
            "   ---------------------- ----------------- 10.5/19.1 MB 5.6 MB/s eta 0:00:02\n",
            "   ------------------------ --------------- 11.5/19.1 MB 5.6 MB/s eta 0:00:02\n",
            "   -------------------------- ------------- 12.6/19.1 MB 5.6 MB/s eta 0:00:02\n",
            "   ----------------------------- ---------- 13.9/19.1 MB 5.6 MB/s eta 0:00:01\n",
            "   ------------------------------ --------- 14.7/19.1 MB 5.4 MB/s eta 0:00:01\n",
            "   --------------------------------- ------ 15.7/19.1 MB 5.4 MB/s eta 0:00:01\n",
            "   ------------------------------------ --- 17.3/19.1 MB 5.5 MB/s eta 0:00:01\n",
            "   ------------------------------------- -- 18.1/19.1 MB 5.4 MB/s eta 0:00:01\n",
            "   ---------------------------------------  18.9/19.1 MB 5.4 MB/s eta 0:00:01\n",
            "   ---------------------------------------- 19.1/19.1 MB 5.1 MB/s eta 0:00:00\n",
            "Downloading tenacity-9.0.0-py3-none-any.whl (28 kB)\n",
            "Installing collected packages: tenacity, plotly\n",
            "Successfully installed plotly-5.24.1 tenacity-9.0.0\n",
            "Collecting pandas\n",
            "  Downloading pandas-2.2.3-cp39-cp39-win_amd64.whl.metadata (19 kB)\n",
            "Requirement already satisfied: numpy>=1.22.4 in d:\\desktop\\workspace\\todo\\.venv\\lib\\site-packages (from pandas) (1.26.4)\n",
            "Requirement already satisfied: python-dateutil>=2.8.2 in d:\\desktop\\workspace\\todo\\.venv\\lib\\site-packages (from pandas) (2.9.0.post0)\n",
            "Collecting pytz>=2020.1 (from pandas)\n",
            "  Downloading pytz-2024.2-py2.py3-none-any.whl.metadata (22 kB)\n",
            "Collecting tzdata>=2022.7 (from pandas)\n",
            "  Downloading tzdata-2024.2-py2.py3-none-any.whl.metadata (1.4 kB)\n",
            "Requirement already satisfied: six>=1.5 in d:\\desktop\\workspace\\todo\\.venv\\lib\\site-packages (from python-dateutil>=2.8.2->pandas) (1.17.0)\n",
            "Downloading pandas-2.2.3-cp39-cp39-win_amd64.whl (11.6 MB)\n",
            "   ---------------------------------------- 0.0/11.6 MB ? eta -:--:--\n",
            "   -- ------------------------------------- 0.8/11.6 MB 4.8 MB/s eta 0:00:03\n",
            "   ------- -------------------------------- 2.1/11.6 MB 5.9 MB/s eta 0:00:02\n",
            "   ----------- ---------------------------- 3.4/11.6 MB 5.9 MB/s eta 0:00:02\n",
            "   ---------------- ----------------------- 4.7/11.6 MB 5.8 MB/s eta 0:00:02\n",
            "   -------------------- ------------------- 6.0/11.6 MB 6.0 MB/s eta 0:00:01\n",
            "   ------------------------- -------------- 7.3/11.6 MB 6.0 MB/s eta 0:00:01\n",
            "   ------------------------------ --------- 8.9/11.6 MB 6.2 MB/s eta 0:00:01\n",
            "   ----------------------------------- ---- 10.2/11.6 MB 6.3 MB/s eta 0:00:01\n",
            "   ---------------------------------------  11.5/11.6 MB 6.2 MB/s eta 0:00:01\n",
            "   ---------------------------------------- 11.6/11.6 MB 5.7 MB/s eta 0:00:00\n",
            "Downloading pytz-2024.2-py2.py3-none-any.whl (508 kB)\n",
            "Downloading tzdata-2024.2-py2.py3-none-any.whl (346 kB)\n",
            "Installing collected packages: pytz, tzdata, pandas\n",
            "Successfully installed pandas-2.2.3 pytz-2024.2 tzdata-2024.2\n",
            "Note: you may need to restart the kernel to use updated packages.\n"
          ]
        }
      ],
      "source": [
        "%pip install plotly\n",
        "%pip install pandas"
      ]
    },
    {
      "cell_type": "code",
      "execution_count": 2,
      "metadata": {
        "colab": {
          "base_uri": "https://localhost:8080/",
          "height": 542
        },
        "id": "xDg9y9CxCo1J",
        "outputId": "079a9b70-2dd1-42f6-ce94-753df26cf8c6"
      },
      "outputs": [
        {
          "ename": "ValueError",
          "evalue": "Mime type rendering requires nbformat>=4.2.0 but it is not installed",
          "output_type": "error",
          "traceback": [
            "\u001b[1;31m---------------------------------------------------------------------------\u001b[0m",
            "\u001b[1;31mValueError\u001b[0m                                Traceback (most recent call last)",
            "Cell \u001b[1;32mIn[2], line 11\u001b[0m\n\u001b[0;32m      9\u001b[0m fig \u001b[38;5;241m=\u001b[39m px\u001b[38;5;241m.\u001b[39mhistogram(normal, x\u001b[38;5;241m=\u001b[39m\u001b[38;5;124m'\u001b[39m\u001b[38;5;124mvolumn\u001b[39m\u001b[38;5;124m'\u001b[39m, nbins\u001b[38;5;241m=\u001b[39m\u001b[38;5;241m100\u001b[39m)\n\u001b[0;32m     10\u001b[0m fig\u001b[38;5;241m.\u001b[39mupdate_layout(bargap\u001b[38;5;241m=\u001b[39m\u001b[38;5;241m0.2\u001b[39m)\n\u001b[1;32m---> 11\u001b[0m \u001b[43mfig\u001b[49m\u001b[38;5;241;43m.\u001b[39;49m\u001b[43mshow\u001b[49m\u001b[43m(\u001b[49m\u001b[43m)\u001b[49m\n",
            "File \u001b[1;32md:\\Desktop\\workspace\\todo\\.venv\\lib\\site-packages\\plotly\\basedatatypes.py:3410\u001b[0m, in \u001b[0;36mBaseFigure.show\u001b[1;34m(self, *args, **kwargs)\u001b[0m\n\u001b[0;32m   3377\u001b[0m \u001b[38;5;250m\u001b[39m\u001b[38;5;124;03m\"\"\"\u001b[39;00m\n\u001b[0;32m   3378\u001b[0m \u001b[38;5;124;03mShow a figure using either the default renderer(s) or the renderer(s)\u001b[39;00m\n\u001b[0;32m   3379\u001b[0m \u001b[38;5;124;03mspecified by the renderer argument\u001b[39;00m\n\u001b[1;32m   (...)\u001b[0m\n\u001b[0;32m   3406\u001b[0m \u001b[38;5;124;03mNone\u001b[39;00m\n\u001b[0;32m   3407\u001b[0m \u001b[38;5;124;03m\"\"\"\u001b[39;00m\n\u001b[0;32m   3408\u001b[0m \u001b[38;5;28;01mimport\u001b[39;00m \u001b[38;5;21;01mplotly\u001b[39;00m\u001b[38;5;21;01m.\u001b[39;00m\u001b[38;5;21;01mio\u001b[39;00m \u001b[38;5;28;01mas\u001b[39;00m \u001b[38;5;21;01mpio\u001b[39;00m\n\u001b[1;32m-> 3410\u001b[0m \u001b[38;5;28;01mreturn\u001b[39;00m pio\u001b[38;5;241m.\u001b[39mshow(\u001b[38;5;28mself\u001b[39m, \u001b[38;5;241m*\u001b[39margs, \u001b[38;5;241m*\u001b[39m\u001b[38;5;241m*\u001b[39mkwargs)\n",
            "File \u001b[1;32md:\\Desktop\\workspace\\todo\\.venv\\lib\\site-packages\\plotly\\io\\_renderers.py:394\u001b[0m, in \u001b[0;36mshow\u001b[1;34m(fig, renderer, validate, **kwargs)\u001b[0m\n\u001b[0;32m    389\u001b[0m         \u001b[38;5;28;01mraise\u001b[39;00m \u001b[38;5;167;01mValueError\u001b[39;00m(\n\u001b[0;32m    390\u001b[0m             \u001b[38;5;124m\"\u001b[39m\u001b[38;5;124mMime type rendering requires ipython but it is not installed\u001b[39m\u001b[38;5;124m\"\u001b[39m\n\u001b[0;32m    391\u001b[0m         )\n\u001b[0;32m    393\u001b[0m     \u001b[38;5;28;01mif\u001b[39;00m \u001b[38;5;129;01mnot\u001b[39;00m nbformat \u001b[38;5;129;01mor\u001b[39;00m Version(nbformat\u001b[38;5;241m.\u001b[39m__version__) \u001b[38;5;241m<\u001b[39m Version(\u001b[38;5;124m\"\u001b[39m\u001b[38;5;124m4.2.0\u001b[39m\u001b[38;5;124m\"\u001b[39m):\n\u001b[1;32m--> 394\u001b[0m         \u001b[38;5;28;01mraise\u001b[39;00m \u001b[38;5;167;01mValueError\u001b[39;00m(\n\u001b[0;32m    395\u001b[0m             \u001b[38;5;124m\"\u001b[39m\u001b[38;5;124mMime type rendering requires nbformat>=4.2.0 but it is not installed\u001b[39m\u001b[38;5;124m\"\u001b[39m\n\u001b[0;32m    396\u001b[0m         )\n\u001b[0;32m    398\u001b[0m     ipython_display\u001b[38;5;241m.\u001b[39mdisplay(bundle, raw\u001b[38;5;241m=\u001b[39m\u001b[38;5;28;01mTrue\u001b[39;00m)\n\u001b[0;32m    400\u001b[0m \u001b[38;5;66;03m# external renderers\u001b[39;00m\n",
            "\u001b[1;31mValueError\u001b[0m: Mime type rendering requires nbformat>=4.2.0 but it is not installed"
          ]
        }
      ],
      "source": [
        "import plotly.express as px\n",
        "import pandas as pd\n",
        "\n",
        "df = pd.read_csv('https://raw.githubusercontent.com/ntatfff/todo/refs/heads/202411241258/4-tumor-bounding-box-2.csv')\n",
        "# df = df.loc[~df[['length','width', 'height']].apply(sorted, axis=1).duplicated()]\n",
        "normal = df.where(df['color'] == 'normal')\n",
        "volumn = normal['volumn']\n",
        "\n",
        "fig = px.histogram(normal, x='volumn', nbins=100)\n",
        "fig.update_layout(bargap=0.2)\n",
        "fig.show()"
      ]
    }
  ],
  "metadata": {
    "colab": {
      "include_colab_link": true,
      "provenance": [],
      "toc_visible": true
    },
    "kernelspec": {
      "display_name": ".venv",
      "language": "python",
      "name": "python3"
    },
    "language_info": {
      "codemirror_mode": {
        "name": "ipython",
        "version": 3
      },
      "file_extension": ".py",
      "mimetype": "text/x-python",
      "name": "python",
      "nbconvert_exporter": "python",
      "pygments_lexer": "ipython3",
      "version": "3.9.0"
    }
  },
  "nbformat": 4,
  "nbformat_minor": 0
}
