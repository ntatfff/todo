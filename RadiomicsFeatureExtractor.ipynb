{
 "cells": [
  {
   "cell_type": "code",
   "execution_count": null,
   "metadata": {},
   "outputs": [],
   "source": [
    "%pip install SimpleITK==2.4.0\n",
    "%pip install numpy==1.26.4\n",
    "%pip install pyradiomics==3.1.0\n",
    "%pip install six==1.17.0"
   ]
  },
  {
   "cell_type": "code",
   "execution_count": 3,
   "metadata": {},
   "outputs": [],
   "source": [
    "import numpy as np\n",
    "import SimpleITK as sitk"
   ]
  },
  {
   "cell_type": "code",
   "execution_count": 4,
   "metadata": {},
   "outputs": [],
   "source": [
    "maskPath='dataset/BraTS2021_Training_Data/BraTS2021_00000/BraTS2021_00000_tumor.nii.gz'\n",
    "mask = sitk.ReadImage(maskPath)\n",
    "imagePath = 'dataset/BraTS2021_Training_Data/BraTS2021_00000/BraTS2021_00000_flair.nii.gz'\n",
    "image=sitk.ReadImage(imagePath)"
   ]
  },
  {
   "cell_type": "code",
   "execution_count": 9,
   "metadata": {},
   "outputs": [],
   "source": [
    "import radiomics.featureextractor\n",
    "import os\n",
    "\n",
    "settings = {}\n",
    "settings['kernelRadius'] = 5\n",
    "settings['voxelBatch'] = 512\n",
    "extractor = radiomics.featureextractor.RadiomicsFeatureExtractor(**settings)"
   ]
  },
  {
   "cell_type": "code",
   "execution_count": null,
   "metadata": {},
   "outputs": [],
   "source": [
    "\n",
    "featureMap = extractor.execute(image, mask, voxelBased=True)"
   ]
  },
  {
   "cell_type": "code",
   "execution_count": null,
   "metadata": {},
   "outputs": [],
   "source": [
    "import six\n",
    "\n",
    "for featureName, featureValue in six.iteritems(featureMap):\n",
    "  if isinstance(featureValue, sitk.Image):\n",
    "    sitk.WriteImage(featureValue, '%s_%s.nrrd' % ('BraTS2021_00000', featureName))\n",
    "    print('Computed %s, stored as \"%s_%s.nrrd\"' % (featureName, 'BraTS2021_00000', featureName))\n",
    "  else:\n",
    "    print('%s: %s' % (featureName, featureValue))"
   ]
  }
 ],
 "metadata": {
  "kernelspec": {
   "display_name": ".venv",
   "language": "python",
   "name": "python3"
  },
  "language_info": {
   "codemirror_mode": {
    "name": "ipython",
    "version": 3
   },
   "file_extension": ".py",
   "mimetype": "text/x-python",
   "name": "python",
   "nbconvert_exporter": "python",
   "pygments_lexer": "ipython3",
   "version": "3.9.0"
  }
 },
 "nbformat": 4,
 "nbformat_minor": 2
}
