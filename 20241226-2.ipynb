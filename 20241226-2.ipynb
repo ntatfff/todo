{
 "cells": [
  {
   "cell_type": "code",
   "execution_count": null,
   "metadata": {},
   "outputs": [],
   "source": [
    "%pip install SimpleITK==2.4.0\n",
    "%pip install numpy==1.26.4\n",
    "%pip install pyradiomics==3.1.0\n",
    "%pip install six==1.17.0"
   ]
  },
  {
   "cell_type": "code",
   "execution_count": 1,
   "metadata": {},
   "outputs": [],
   "source": [
    "import radiomics\n",
    "import numpy as np\n",
    "import SimpleITK as sitk"
   ]
  },
  {
   "cell_type": "code",
   "execution_count": 2,
   "metadata": {},
   "outputs": [
    {
     "data": {
      "text/plain": [
       "array([[[ 6.8,  4.4,  5.9],\n",
       "        [ 9.4,  6.8, 10.4],\n",
       "        [16.6, 23. , 51.6]],\n",
       "\n",
       "       [[ 4.4,  3.1,  1.7],\n",
       "        [ 6.8,  6.4,  5.9],\n",
       "        [ 5.8,  8.2, 12.2]],\n",
       "\n",
       "       [[ 2.8,  4.4,  5.6],\n",
       "        [ 4.4,  6.8,  8.2],\n",
       "        [ 2.8,  4.6,  7. ]]])"
      ]
     },
     "execution_count": 2,
     "metadata": {},
     "output_type": "execute_result"
    }
   ],
   "source": [
    "image = sitk.ReadImage('testCase_original_firstorder_10Percentile.nrrd')\n",
    "sitk.GetArrayFromImage(image)"
   ]
  },
  {
   "cell_type": "code",
   "execution_count": 2,
   "metadata": {},
   "outputs": [],
   "source": [
    "imageSize = (3, 3, 3)\n",
    "\n",
    "mask_data = np.ones(imageSize, dtype=int)\n",
    "# mask_data = np.zeros(imageSize, dtype=int)\n",
    "# mask_data[0,0,0] = 1\n",
    "# mask_data[2,2,2] = 1\n",
    "mask = sitk.GetImageFromArray(mask_data)\n",
    "# image = sitk.GetImageFromArray(np.random.randint(0, 100, size=imageSize))\n",
    "image_data = [[[81, 98,  1],\n",
    "  [22, 74, 98],\n",
    "  [78, 32, 60]],\n",
    "\n",
    " [[59,  8, 38],\n",
    "  [ 4, 82, 67],\n",
    "  [70, 94, 98]],\n",
    "\n",
    " [[38, 27, 89],\n",
    "  [59,  0, 93],\n",
    "  [70, 60, 10]]]\n",
    "\n",
    "image = sitk.GetImageFromArray(image_data)"
   ]
  },
  {
   "cell_type": "code",
   "execution_count": null,
   "metadata": {},
   "outputs": [],
   "source": [
    "print(sitk.GetArrayFromImage(image))\n",
    "print(sitk.GetArrayFromImage(mask))"
   ]
  },
  {
   "cell_type": "code",
   "execution_count": null,
   "metadata": {},
   "outputs": [],
   "source": [
    "import radiomics.featureextractor\n",
    "import os\n",
    "\n",
    "settings = {}\n",
    "settings['kernelRadius'] = 1\n",
    "extractor = radiomics.featureextractor.RadiomicsFeatureExtractor(**settings)\n",
    "featureMap = extractor.execute(image, mask, voxelBased=True)"
   ]
  },
  {
   "cell_type": "code",
   "execution_count": null,
   "metadata": {},
   "outputs": [],
   "source": [
    "features = featureMap['original_firstorder_Energy']\n",
    "sitk.GetArrayFromImage(features)"
   ]
  },
  {
   "cell_type": "code",
   "execution_count": null,
   "metadata": {},
   "outputs": [],
   "source": [
    "import six\n",
    "\n",
    "for featureName, featureValue in six.iteritems(featureMap):\n",
    "  if isinstance(featureValue, sitk.Image):\n",
    "    sitk.WriteImage(featureValue, '%s_%s.nrrd' % ('testCase', featureName))\n",
    "    print('Computed %s, stored as \"%s_%s.nrrd\"' % (featureName, 'testCase', featureName))\n",
    "  else:\n",
    "    print('%s: %s' % (featureName, featureValue))"
   ]
  }
 ],
 "metadata": {
  "kernelspec": {
   "display_name": ".venv",
   "language": "python",
   "name": "python3"
  },
  "language_info": {
   "codemirror_mode": {
    "name": "ipython",
    "version": 3
   },
   "file_extension": ".py",
   "mimetype": "text/x-python",
   "name": "python",
   "nbconvert_exporter": "python",
   "pygments_lexer": "ipython3",
   "version": "3.9.0"
  }
 },
 "nbformat": 4,
 "nbformat_minor": 2
}
