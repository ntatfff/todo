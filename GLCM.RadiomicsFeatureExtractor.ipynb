{
  "cells": [
    {
      "cell_type": "markdown",
      "metadata": {
        "id": "view-in-github",
        "colab_type": "text"
      },
      "source": [
        "<a href=\"https://colab.research.google.com/github/ntatfff/todo/blob/202411241258/GLCM.RadiomicsFeatureExtractor.ipynb\" target=\"_parent\"><img src=\"https://colab.research.google.com/assets/colab-badge.svg\" alt=\"Open In Colab\"/></a>"
      ]
    },
    {
      "cell_type": "code",
      "execution_count": null,
      "metadata": {
        "id": "2WxCQgO5SHOb"
      },
      "outputs": [],
      "source": [
        "!wget -O mini.sh https://repo.anaconda.com/miniconda/Miniconda3-py39_4.9.2-Linux-x86_64.sh\n",
        "!chmod +x mini.sh\n",
        "!bash ./mini.sh -b -f -p /usr/local\n",
        "!conda install -q -y jupyter\n",
        "!conda install -q -y google-colab -c conda-forge\n",
        "!python -m ipykernel install --name \"py39\" --user\n",
        "!python3 --version"
      ]
    },
    {
      "cell_type": "code",
      "execution_count": null,
      "metadata": {
        "id": "moIoh1WOcp5u"
      },
      "outputs": [],
      "source": [
        "!sudo update-alternatives --install /usr/bin/python3 python3 /usr/local/lib/python3.9 1"
      ]
    },
    {
      "cell_type": "code",
      "execution_count": null,
      "metadata": {
        "id": "QjURm4_GbLf2"
      },
      "outputs": [],
      "source": [
        "%pip install SimpleITK==2.4.0\n",
        "%pip install numpy==1.26.4\n",
        "%pip install pyradiomics==3.1.0\n",
        "%pip install pandas==1.2.3"
      ]
    },
    {
      "cell_type": "code",
      "execution_count": null,
      "metadata": {
        "id": "IyAq5cUzbqTP"
      },
      "outputs": [],
      "source": [
        "%%writefile code.py\n",
        "\n",
        "import radiomics\n",
        "import numpy as np\n",
        "import SimpleITK as sitk\n",
        "import radiomics.featureextractor\n",
        "import os\n",
        "import six\n",
        "from os import path\n",
        "import pandas as pd\n",
        "\n",
        "def featureExtractor(fileId):\n",
        "  imagePath = '/content/drive/MyDrive/LuanVan/dataset/BraTS2021_Training_Data/%s/%s_flair.nii.gz' % (fileId, fileId)\n",
        "  image = sitk.ReadImage(imagePath)\n",
        "  maskPath ='/content/drive/MyDrive/LuanVan/dataset/BraTS2021_Training_Data/%s/%s_tumor.nii.gz' % (fileId, fileId)\n",
        "  mask = sitk.ReadImage(maskPath)\n",
        "\n",
        "  kernel = 5\n",
        "  settings = {}\n",
        "  settings['kernelRadius'] = kernel\n",
        "  settings['voxelBatch'] = 40000\n",
        "  extractor = radiomics.featureextractor.RadiomicsFeatureExtractor(**settings)\n",
        "  extractor.disableAllFeatures()\n",
        "  extractor.enableFeatureClassByName('glcm')\n",
        "\n",
        "  featureMap = extractor.execute(image, mask, voxelBased=True)\n",
        "\n",
        "  for featureName, featureValue in six.iteritems(featureMap):\n",
        "    if isinstance(featureValue, sitk.Image):\n",
        "      fileFolder = '/content/drive/MyDrive/LuanVan/dataset/kernel%s/%s' % (kernel, fileId)\n",
        "      if path.exists(fileFolder) == False:\n",
        "        os.mkdir(fileFolder)\n",
        "      sitk.WriteImage(featureValue, '%s/%s.nrrd' % (fileFolder, featureName))\n",
        "      print('Computed %s, stored as \"%s/%s.nrrd\"' % (featureName, fileFolder, featureName))\n",
        "    else:\n",
        "      print('%s: %s' % (featureName, featureValue))\n",
        "\n",
        "monitorFilePath = '/content/drive/MyDrive/LuanVan/dataset/kernel5/glcm.monitor.csv'\n",
        "monitor = pd.read_csv(monitorFilePath, index_col='no')\n",
        "for i, row in monitor.iterrows():\n",
        "    if row['done'] != 0:\n",
        "        continue\n",
        "    fileId = row['file']\n",
        "    print('Starting %s' % (fileId))\n",
        "    featureExtractor(fileId)\n",
        "    monitor.at[i, 'done'] = 1\n",
        "    monitor.to_csv(monitorFilePath)"
      ]
    },
    {
      "cell_type": "code",
      "execution_count": null,
      "metadata": {
        "id": "uoQheE-PqY5x"
      },
      "outputs": [],
      "source": [
        "!python3 code.py"
      ]
    }
  ],
  "metadata": {
    "colab": {
      "name": "ColabRadiomicsFeatureExtractor.ipynb",
      "provenance": [],
      "include_colab_link": true
    },
    "kernelspec": {
      "display_name": "Python 3",
      "name": "python3"
    },
    "language_info": {
      "name": "python"
    }
  },
  "nbformat": 4,
  "nbformat_minor": 0
}