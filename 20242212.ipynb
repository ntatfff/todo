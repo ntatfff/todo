{
 "cells": [
  {
   "cell_type": "code",
   "execution_count": 1,
   "metadata": {},
   "outputs": [],
   "source": [
    "from __future__ import print_function\n",
    "\n",
    "import logging\n",
    "import os\n",
    "\n",
    "import SimpleITK as sitk\n",
    "import six\n",
    "import numpy as np\n",
    "\n",
    "import radiomics\n",
    "from radiomics import featureextractor, getFeatureClasses\n",
    "from radiomics import glcm\n",
    "from tqdm import tqdm\n"
   ]
  },
  {
   "cell_type": "code",
   "execution_count": 14,
   "metadata": {},
   "outputs": [],
   "source": [
    "radiomics.setVerbosity(logging.INFO)\n",
    "radiomics.progressReporter = tqdm"
   ]
  },
  {
   "cell_type": "code",
   "execution_count": 15,
   "metadata": {},
   "outputs": [],
   "source": [
    "kernel = 2\n",
    "# size = 24\n",
    "\n",
    "# imageName = sitk.GetImageFromArray(np.random.randn(size, size, size))\n",
    "# # maskV = np.ones((size, size, size))\n",
    "# # maskV[0][0][0] = 0\n",
    "# maskName = sitk.GetImageFromArray(np.ones((size, size, size)))"
   ]
  },
  {
   "cell_type": "code",
   "execution_count": 8,
   "metadata": {},
   "outputs": [],
   "source": [
    "imageSize = (3, 3, 3)\n",
    "\n",
    "mask_data = np.zeros(imageSize, dtype=int)\n",
    "mask_data[1,1,1] = 1\n",
    "mask_data[2,2,2] = 1\n",
    "mask = sitk.GetImageFromArray(mask_data)\n",
    "\n",
    "image_data = np.random.randint(0, 100, size=imageSize)\n",
    "image = sitk.GetImageFromArray(image_data)"
   ]
  },
  {
   "cell_type": "code",
   "execution_count": 13,
   "metadata": {},
   "outputs": [
    {
     "data": {
      "text/plain": [
       "{'minimumROIDimensions': 2,\n",
       " 'minimumROISize': None,\n",
       " 'normalize': False,\n",
       " 'normalizeScale': 1,\n",
       " 'removeOutliers': None,\n",
       " 'resampledPixelSpacing': None,\n",
       " 'interpolator': 'sitkBSpline',\n",
       " 'preCrop': False,\n",
       " 'padDistance': 5,\n",
       " 'distances': [1],\n",
       " 'force2D': False,\n",
       " 'force2Ddimension': 0,\n",
       " 'resegmentRange': None,\n",
       " 'label': 1,\n",
       " 'additionalInfo': True}"
      ]
     },
     "execution_count": 13,
     "metadata": {},
     "output_type": "execute_result"
    }
   ],
   "source": [
    "extractor = featureextractor.RadiomicsFeatureExtractor()\n",
    "extractor.settings"
   ]
  },
  {
   "cell_type": "code",
   "execution_count": 18,
   "metadata": {},
   "outputs": [
    {
     "name": "stderr",
     "output_type": "stream",
     "text": [
      "d:\\Desktop\\workspace\\todo\\.venv\\lib\\site-packages\\radiomics\\firstorder.py:297: RuntimeWarning: Mean of empty slice\n",
      "  return numpy.nanmean(numpy.absolute(percentileArray - numpy.nanmean(percentileArray, 1, keepdims=True)), 1)\n",
      "GLCM is symmetrical, therefore Sum Average = 2 * Joint Average, only 1 needs to be calculated\n"
     ]
    },
    {
     "data": {
      "text/plain": [
       "array([[[   0.,    0.,    0.],\n",
       "        [   0.,    0.,    0.],\n",
       "        [   0.,    0.,    0.]],\n",
       "\n",
       "       [[   0.,    0.,    0.],\n",
       "        [   0., 7057.,    0.],\n",
       "        [   0.,    0.,    0.]],\n",
       "\n",
       "       [[   0.,    0.,    0.],\n",
       "        [   0.,    0.,    0.],\n",
       "        [   0.,    0., 7057.]]])"
      ]
     },
     "execution_count": 18,
     "metadata": {},
     "output_type": "execute_result"
    }
   ],
   "source": [
    "features = extractor.execute(image, mask, voxelBased=True)\n",
    "sitk.GetArrayFromImage(features['original_firstorder_Energy'])"
   ]
  },
  {
   "cell_type": "code",
   "execution_count": 16,
   "metadata": {},
   "outputs": [
    {
     "data": {
      "text/plain": [
       "array([[[3136, 4225, 6889],\n",
       "        [   0, 8100,    9],\n",
       "        [1024, 2916, 2916]],\n",
       "\n",
       "       [[1681,    9, 8649],\n",
       "        [1089,    1,  676],\n",
       "        [1089, 6724, 5625]],\n",
       "\n",
       "       [[1764, 4624, 5184],\n",
       "        [3844, 3136, 1521],\n",
       "        [9409, 5041, 7056]]])"
      ]
     },
     "execution_count": 16,
     "metadata": {},
     "output_type": "execute_result"
    }
   ],
   "source": [
    "image_data**2"
   ]
  },
  {
   "cell_type": "code",
   "execution_count": 18,
   "metadata": {},
   "outputs": [
    {
     "name": "stderr",
     "output_type": "stream",
     "text": [
      "batch: 100%|██████████| 12/12.0 [01:20<00:00,  6.74s/it]\n"
     ]
    }
   ],
   "source": [
    "a_ext = glcm.RadiomicsGLCM(\n",
    "        imageName, maskName,\n",
    "        voxelBased=True, maskedKernel=False, voxelBatch=1024,\n",
    "        **get_default_settings())\n",
    "a = a_ext.execute()"
   ]
  },
  {
   "cell_type": "code",
   "execution_count": 19,
   "metadata": {},
   "outputs": [
    {
     "data": {
      "text/plain": [
       "{'JointEntropy': <SimpleITK.SimpleITK.Image; proxy of <Swig Object of type 'itk::simple::Image *' at 0x000001AE3E053D20> >}"
      ]
     },
     "execution_count": 19,
     "metadata": {},
     "output_type": "execute_result"
    }
   ],
   "source": [
    "a"
   ]
  },
  {
   "cell_type": "code",
   "execution_count": 20,
   "metadata": {},
   "outputs": [],
   "source": [
    "featureMap = a['JointEntropy']\n",
    "featureData = sitk.GetArrayFromImage(featureMap)"
   ]
  },
  {
   "cell_type": "code",
   "execution_count": 21,
   "metadata": {},
   "outputs": [
    {
     "data": {
      "text/plain": [
       "(155, 240, 240)"
      ]
     },
     "execution_count": 21,
     "metadata": {},
     "output_type": "execute_result"
    }
   ],
   "source": [
    "featureData.shape"
   ]
  },
  {
   "cell_type": "code",
   "execution_count": 22,
   "metadata": {},
   "outputs": [
    {
     "data": {
      "text/plain": [
       "(155, 240, 240)"
      ]
     },
     "execution_count": 22,
     "metadata": {},
     "output_type": "execute_result"
    }
   ],
   "source": [
    "featureData.shape"
   ]
  },
  {
   "cell_type": "code",
   "execution_count": 23,
   "metadata": {},
   "outputs": [
    {
     "data": {
      "text/plain": [
       "(array([61, 62, 62, 63, 72, 72, 73, 73, 75, 76, 78, 79, 79, 79, 84],\n",
       "       dtype=int64),\n",
       " array([100,  73,  74,  84,  84,  85,  74,  75,  90,  87,  74,  74,  74,\n",
       "         88,  92], dtype=int64),\n",
       " array([144, 137, 137, 132, 149, 152, 145, 145, 148, 131, 144, 141, 144,\n",
       "        132, 139], dtype=int64))"
      ]
     },
     "execution_count": 23,
     "metadata": {},
     "output_type": "execute_result"
    }
   ],
   "source": [
    "# featureData.\n",
    "np.where(featureData == 4.53996538528106)"
   ]
  },
  {
   "cell_type": "code",
   "execution_count": 24,
   "metadata": {},
   "outputs": [
    {
     "data": {
      "text/plain": [
       "4.53996538528106"
      ]
     },
     "execution_count": 24,
     "metadata": {},
     "output_type": "execute_result"
    }
   ],
   "source": [
    "featureData[61][100][144]"
   ]
  },
  {
   "cell_type": "code",
   "execution_count": 25,
   "metadata": {},
   "outputs": [
    {
     "data": {
      "text/plain": [
       "0.005851361887708959"
      ]
     },
     "execution_count": 25,
     "metadata": {},
     "output_type": "execute_result"
    }
   ],
   "source": [
    "featureData.mean()"
   ]
  }
 ],
 "metadata": {
  "kernelspec": {
   "display_name": ".venv",
   "language": "python",
   "name": "python3"
  },
  "language_info": {
   "codemirror_mode": {
    "name": "ipython",
    "version": 3
   },
   "file_extension": ".py",
   "mimetype": "text/x-python",
   "name": "python",
   "nbconvert_exporter": "python",
   "pygments_lexer": "ipython3",
   "version": "3.10.11"
  }
 },
 "nbformat": 4,
 "nbformat_minor": 2
}
